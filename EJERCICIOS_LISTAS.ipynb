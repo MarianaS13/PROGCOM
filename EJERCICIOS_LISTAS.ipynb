{
  "nbformat": 4,
  "nbformat_minor": 0,
  "metadata": {
    "colab": {
      "provenance": []
    },
    "kernelspec": {
      "name": "python3",
      "display_name": "Python 3"
    },
    "language_info": {
      "name": "python"
    }
  },
  "cells": [
    {
      "cell_type": "markdown",
      "source": [
        "1.\n",
        "Dada la lista: list1 = [100, 200, 300, 400, 500], se desea que imprima [500, 400, 300,\n",
        "200, 100]"
      ],
      "metadata": {
        "id": "W5hVd7aR0rzm"
      }
    },
    {
      "cell_type": "code",
      "source": [
        "list1 = [100, 200, 300, 400, 500]\n",
        "list1.reverse()\n",
        "print(list1)\n"
      ],
      "metadata": {
        "colab": {
          "base_uri": "https://localhost:8080/"
        },
        "id": "oGINvlXr04FK",
        "outputId": "db779e92-9084-4f75-8574-40a524bb40eb"
      },
      "execution_count": null,
      "outputs": [
        {
          "output_type": "stream",
          "name": "stdout",
          "text": [
            "[500, 400, 300, 200, 100]\n"
          ]
        }
      ]
    },
    {
      "cell_type": "markdown",
      "source": [
        "3. Desarrolle un programa que calcule el doble de cada uno de los elementos de una\n",
        "lista. Ejemplo: si la lista es [1, 2, 3, 4, 5, 6, 7] da como resultado [1, 4, 9, 16, 25, 36,\n",
        "49]."
      ],
      "metadata": {
        "id": "50WUPaHu1IG_"
      }
    },
    {
      "cell_type": "code",
      "source": [
        "lista = [1, 2, 3, 4, 5, 6, 7]\n",
        "resultado = [x ** 2 for x in lista]\n",
        "print(resultado)  # Resultado: [1, 4, 9, 16, 25, 36, 49]\n"
      ],
      "metadata": {
        "colab": {
          "base_uri": "https://localhost:8080/"
        },
        "id": "23D7I9aj2LH4",
        "outputId": "a6259dda-4763-4767-8183-79120975e3cf"
      },
      "execution_count": null,
      "outputs": [
        {
          "output_type": "stream",
          "name": "stdout",
          "text": [
            "[1, 4, 9, 16, 25, 36, 49]\n"
          ]
        }
      ]
    },
    {
      "cell_type": "markdown",
      "source": [
        "6. Dada la lista [\"Mike\", \"\", \"Emma\", \"Kelly\", \"\", \"Brad\"] se desea un programa que\n",
        "elimine el elemento vacío."
      ],
      "metadata": {
        "id": "F3yKoxbl2Sow"
      }
    },
    {
      "cell_type": "code",
      "source": [
        "lista = [\"Mike\", \"\", \"Emma\", \"Kelly\", \"\", \"Brad\"]\n",
        "while \"\" in lista:\n",
        "    lista.remove(\"\")\n",
        "print(lista)\n"
      ],
      "metadata": {
        "colab": {
          "base_uri": "https://localhost:8080/"
        },
        "id": "6qesHJyP2TQw",
        "outputId": "0314d03d-b8d9-4805-a228-f15538070ce2"
      },
      "execution_count": null,
      "outputs": [
        {
          "output_type": "stream",
          "name": "stdout",
          "text": [
            "['Mike', 'Emma', 'Kelly', 'Brad']\n"
          ]
        }
      ]
    },
    {
      "cell_type": "markdown",
      "source": [
        "10. Construya un programa que elimine de una lista todos los duplicados. Ejemplo, si\n",
        "se tiene una lista [5, 20, 15, 20, 25, 50, 20] imprime [5, 15, 25, 50]"
      ],
      "metadata": {
        "id": "sdlmZPta29oc"
      }
    },
    {
      "cell_type": "code",
      "source": [
        "lista = [5, 20, 15, 20, 25, 50, 20]\n",
        "lista_unicos = []\n",
        "\n",
        "for elemento in lista:\n",
        "    if lista.count(elemento) == 1:\n",
        "        lista_unicos.append(elemento)\n",
        "\n",
        "print(lista_unicos)\n"
      ],
      "metadata": {
        "colab": {
          "base_uri": "https://localhost:8080/"
        },
        "id": "iabtdCX73SfV",
        "outputId": "66aa0c40-b922-4551-8dad-468724734864"
      },
      "execution_count": null,
      "outputs": [
        {
          "output_type": "stream",
          "name": "stdout",
          "text": [
            "[5, 15, 25, 50]\n"
          ]
        }
      ]
    },
    {
      "cell_type": "markdown",
      "source": [
        "11. Construya una programa que cuente cuántas veces se repitan los elementos de una\n",
        "lista. Ejemplo, si se tiene una lista [5, 20, 15, 20, 25, 50, 20] imprima:\n",
        "5 = 1\n",
        "20 = 3\n",
        "15 = 1\n",
        "25= 1\n",
        "50 = 1"
      ],
      "metadata": {
        "id": "L0v_BOWW3hFT"
      }
    },
    {
      "cell_type": "code",
      "source": [],
      "metadata": {
        "id": "wAvxIPDk3haV"
      },
      "execution_count": null,
      "outputs": []
    },
    {
      "cell_type": "markdown",
      "source": [
        "4. Dadas dos listas\n",
        "a. lista1 = [\"Hola \", \"toma \"]\n",
        "b. lista2 = [\"Querido\", \"Señor\"]\n",
        "desarrollar un programe que de como resultado [“Hola Querido”, “Hola Señor”,\n",
        "'toma Querido”, 'toma Señor']"
      ],
      "metadata": {
        "id": "Oy7D3ssR4FVB"
      }
    },
    {
      "cell_type": "code",
      "source": [
        "lista1 = [\"Hola \", \"toma \"]\n",
        "lista2 = [\"Querido\", \"Señor\"]\n",
        "\n",
        "resultados = []\n",
        "\n",
        "for saludo in lista1:\n",
        "    for nombre in lista2:\n",
        "        resultados.append(saludo + nombre)\n",
        "\n",
        "print(resultados)\n"
      ],
      "metadata": {
        "colab": {
          "base_uri": "https://localhost:8080/"
        },
        "id": "HdZq4HBU4QUG",
        "outputId": "527d160e-4771-45ff-8db5-95bbab11e8ed"
      },
      "execution_count": null,
      "outputs": [
        {
          "output_type": "stream",
          "name": "stdout",
          "text": [
            "['Hola Querido', 'Hola Señor', 'toma Querido', 'toma Señor']\n"
          ]
        }
      ]
    },
    {
      "cell_type": "markdown",
      "source": [
        "7. Dada la lista [10, 20, [300, 400, [5000, 6000], 500], 30, 40] se desea un programa\n",
        "que genere el siguiente resultado: [10, 20, [300, 400, [5000, 6000, 7000], 500], 30,\n",
        "40]"
      ],
      "metadata": {
        "id": "5vbgaH2y4iEX"
      }
    },
    {
      "cell_type": "code",
      "source": [
        "lista = [10, 20, [300, 400, [5000, 6000], 500], 30, 40]\n",
        "lista[2][2].append(7000)\n",
        "print(lista)\n"
      ],
      "metadata": {
        "colab": {
          "base_uri": "https://localhost:8080/"
        },
        "id": "KGmsjwxM4u1E",
        "outputId": "0f0bd8cc-fc39-41d8-e815-7f752644a84b"
      },
      "execution_count": null,
      "outputs": [
        {
          "output_type": "stream",
          "name": "stdout",
          "text": [
            "[10, 20, [300, 400, [5000, 6000, 7000], 500], 30, 40]\n"
          ]
        }
      ]
    },
    {
      "cell_type": "markdown",
      "source": [
        "18. Escriba un programa que mueva todos los ceros al final de una lista. Ejemplo, si se\n",
        "tiene la lista [3, 4, 0, 0, 0, 6, 2, 0, 6, 7, 6, 0, 0, 0, 9, 10, 7, 4, 4, 5, 3, 0, 0, 2, 9, 7, 1] el\n",
        "resultado esperado es: [3, 4, 6, 2, 6, 7, 6, 9, 10, 7, 4, 4, 5, 3, 2, 9, 7, 1, 0, 0, 0, 0, 0, 0,\n",
        "0, 0, 0]\n"
      ],
      "metadata": {
        "id": "GNzYFITN5CsJ"
      }
    },
    {
      "cell_type": "code",
      "source": [
        "lista = [3, 4, 0, 0, 0, 6, 2, 0, 6, 7, 6, 0, 0, 0, 9, 10, 7, 4, 4, 5, 3, 0, 0, 2, 9, 7, 1]\n",
        "cantidad_ceros = lista.count(0)\n",
        "\n",
        "while 0 in lista:\n",
        "    lista.remove(0)\n",
        "\n",
        "lista.extend([0] * cantidad_ceros)\n",
        "\n",
        "print(lista)"
      ],
      "metadata": {
        "colab": {
          "base_uri": "https://localhost:8080/"
        },
        "id": "06C86Nsm5ENP",
        "outputId": "5be955f7-91da-46f7-c2e3-fd2457aa7cfd"
      },
      "execution_count": null,
      "outputs": [
        {
          "output_type": "stream",
          "name": "stdout",
          "text": [
            "[3, 4, 6, 2, 6, 7, 6, 9, 10, 7, 4, 4, 5, 3, 2, 9, 7, 1, 0, 0, 0, 0, 0, 0, 0, 0, 0]\n"
          ]
        }
      ]
    }
  ]
}