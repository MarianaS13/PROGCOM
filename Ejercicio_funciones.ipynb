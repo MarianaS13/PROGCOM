{
  "nbformat": 4,
  "nbformat_minor": 0,
  "metadata": {
    "colab": {
      "provenance": []
    },
    "kernelspec": {
      "name": "python3",
      "display_name": "Python 3"
    },
    "language_info": {
      "name": "python"
    }
  },
  "cells": [
    {
      "cell_type": "code",
      "execution_count": 5,
      "metadata": {
        "colab": {
          "base_uri": "https://localhost:8080/"
        },
        "id": "D7KEF4pmyvqP",
        "outputId": "27f10870-2171-42f9-c57a-4d1f458884e7"
      },
      "outputs": [
        {
          "output_type": "stream",
          "name": "stdout",
          "text": [
            "¿Cuánto es 7 multiplicado con 3? 21\n",
            "¡Correcto!\n",
            "¿Cuánto es 3 restado con 6? -3\n",
            "¡Correcto!\n",
            "¿Cuánto es 5 sumado con 9? 14\n",
            "¡Correcto!\n",
            "¿Cuánto es 10 sumado con 6? 16\n",
            "¡Correcto!\n",
            "¿Cuánto es 6 sumado con 8? 14\n",
            "¡Correcto!\n",
            "¿Cuánto es 8 sumado con 8? 16\n",
            "¡Correcto!\n",
            "¿Cuánto es 2 restado con 1? 1\n",
            "¡Correcto!\n",
            "¿Cuánto es 2 restado con 1? 1\n",
            "¡Correcto!\n",
            "¿Cuánto es 48 dividido entre 6? 8\n",
            "¡Correcto!\n",
            "¿Cuánto es 5 sumado con 9? 14\n",
            "¡Correcto!\n",
            "¡Felicitaciones! Respondiste correctamente 10 preguntas seguidas.\n"
          ]
        }
      ],
      "source": [
        "import random\n",
        "\n",
        "# Funciones anónimas para las operaciones\n",
        "operaciones = {\n",
        "    'suma': lambda a, b: a + b,\n",
        "    'resta': lambda a, b: a - b,\n",
        "    'multiplicacion': lambda a, b: a * b,\n",
        "    'division': lambda a, b: a / b if b != 0 else 'undefined'\n",
        "}\n",
        "\n",
        "# Función para hacer una pregunta\n",
        "def hacer_pregunta():\n",
        "    operacion_elegida = random.choice(list(operaciones.keys()))\n",
        "    num1 = random.randint(1, 10)\n",
        "    num2 = random.randint(1, 10)\n",
        "\n",
        "    if operacion_elegida == 'division':\n",
        "        num1 = num2 * random.randint(1, 10)\n",
        "\n",
        "    # Calcular el resultado\n",
        "    resultado = operaciones[operacion_elegida](num1, num2)\n",
        "\n",
        "    # Formular la pregunta de manera natural\n",
        "    if operacion_elegida == 'suma':\n",
        "        pregunta = f\"¿Cuánto es {num1} sumado con {num2}?\"\n",
        "    elif operacion_elegida == 'resta':\n",
        "        pregunta = f\"¿Cuánto es {num1} restado con {num2}?\"\n",
        "    elif operacion_elegida == 'multiplicacion':\n",
        "        pregunta = f\"¿Cuánto es {num1} multiplicado con {num2}?\"\n",
        "    elif operacion_elegida == 'division':\n",
        "        pregunta = f\"¿Cuánto es {num1} dividido entre {num2}?\"\n",
        "\n",
        "    # Mostrar la pregunta y obtener la respuesta del usuario\n",
        "    respuesta_usuario = float(input(pregunta + \" \"))\n",
        "\n",
        "    # Comprobar si la respuesta es correcta\n",
        "    if respuesta_usuario == resultado:\n",
        "        print(\"¡Correcto!\")\n",
        "        return True\n",
        "    else:\n",
        "        print(f\"Incorrecto. La respuesta correcta era {resultado}.\")\n",
        "        return False\n",
        "\n",
        "# Juego principal\n",
        "def juego_matematico():\n",
        "    correctas_seguidas = 0\n",
        "\n",
        "    while correctas_seguidas < 10:\n",
        "        if hacer_pregunta():\n",
        "            correctas_seguidas += 1\n",
        "        else:\n",
        "            correctas_seguidas = 0  # Reiniciar el contador si se falla una pregunta\n",
        "\n",
        "    print(\"¡Felicitaciones! Respondiste correctamente 10 preguntas seguidas.\")\n",
        "\n",
        "# Iniciar el juego\n",
        "juego_matematico()"
      ]
    }
  ]
}