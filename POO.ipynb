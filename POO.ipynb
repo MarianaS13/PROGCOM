{
  "nbformat": 4,
  "nbformat_minor": 0,
  "metadata": {
    "colab": {
      "provenance": []
    },
    "kernelspec": {
      "name": "python3",
      "display_name": "Python 3"
    },
    "language_info": {
      "name": "python"
    }
  },
  "cells": [
    {
      "cell_type": "markdown",
      "source": [
        "#Encapsulamiento"
      ],
      "metadata": {
        "id": "Md52h4GvdPQe"
      }
    },
    {
      "cell_type": "code",
      "execution_count": null,
      "metadata": {
        "colab": {
          "base_uri": "https://localhost:8080/"
        },
        "id": "mxRbcLJDctMW",
        "outputId": "491c2687-bee5-4a92-a419-1904752465ef"
      },
      "outputs": [
        {
          "output_type": "stream",
          "name": "stdout",
          "text": [
            "Toyota\n",
            "Corolla\n"
          ]
        }
      ],
      "source": [
        "#definir la clase \"Coche\"\n",
        "class Coche:\n",
        "  def __init__(self,marca,modelo):\n",
        "    self.marca = marca   #Atributo público\n",
        "    self.modelo = modelo  #Atributo público\n",
        "\n",
        "#Crear un objeto de clase \"Coche\"\n",
        "mi_coche = Coche(\"Toyota\",\"Corolla\")\n",
        "\n",
        "#Acceder a los atributos del objeto\n",
        "print(mi_coche.marca)   #Salida: Toyota\n",
        "print(mi_coche.modelo)  #Salida: Corolla"
      ]
    },
    {
      "cell_type": "markdown",
      "source": [
        "Ejercicio"
      ],
      "metadata": {
        "id": "uksFZ89EtkAH"
      }
    },
    {
      "cell_type": "code",
      "source": [
        "class Estudiante:\n",
        "    # Constructor de la clase\n",
        "    def __init__(self, nombre, nota1, nota2, nota3):\n",
        "        # Inicializamos los atributos del estudiante\n",
        "        self.nombre = nombre\n",
        "        self.nota1 = nota1\n",
        "        self.nota2 = nota2\n",
        "        self.nota3 = nota3\n",
        "        self.nota_final = self.calcular_nota_final()  # Calculamos la nota final al crear el objeto\n",
        "\n",
        "    # Método para calcular la nota final\n",
        "    def calcular_nota_final(self):\n",
        "        # Calcula la nota final como el promedio de las tres notas\n",
        "        return (self.nota1 + self.nota2 + self.nota3) / 3\n",
        "\n",
        "# Lista para almacenar objetos de tipo Estudiante\n",
        "estudiantes = []\n",
        "\n",
        "# Cantidad de estudiantes (ejemplo con 2 para simplicidad)\n",
        "total_estudiantes = 2\n",
        "\n",
        "# Recolección de datos para cada estudiante\n",
        "for i in range(total_estudiantes):\n",
        "    nombre = input(\"Ingrese el nombre del estudiante: \")\n",
        "    nota1 = float(input(\"Ingrese la primera nota: \"))\n",
        "    nota2 = float(input(\"Ingrese la segunda nota: \"))\n",
        "    nota3 = float(input(\"Ingrese la tercera nota: \"))\n",
        "\n",
        "    # Crear un objeto Estudiante y añadirlo a la lista\n",
        "    estudiante = Estudiante(nombre, nota1, nota2, nota3)\n",
        "    estudiantes.append(estudiante)\n",
        "\n",
        "# Impresión del reporte de calificaciones\n",
        "print(\"\\nREPORTE DE CALIFICACIONES\")\n",
        "print(\"NOMBRE\\t\\tNOTA1\\tNOTA2\\tNOTA3\\tNOTA FINAL\")\n",
        "for estudiante in estudiantes:\n",
        "    print(f\"{estudiante.nombre}\\t\\t{estudiante.nota1}\\t{estudiante.nota2}\\t{estudiante.nota3}\\t{estudiante.nota_final:.2f}\")\n",
        "\n",
        "# Imprimir el total de estudiantes\n",
        "print(f\"\\nTOTAL {total_estudiantes} ESTUDIANTES\")\n"
      ],
      "metadata": {
        "colab": {
          "base_uri": "https://localhost:8080/"
        },
        "id": "km6z96wftbuI",
        "outputId": "09ed4a5a-96ad-4f86-db64-c4d5b2ddf077"
      },
      "execution_count": 6,
      "outputs": [
        {
          "output_type": "stream",
          "name": "stdout",
          "text": [
            "Ingrese el nombre del estudiante: Maria\n",
            "Ingrese la primera nota: 90\n",
            "Ingrese la segunda nota: 100\n",
            "Ingrese la tercera nota: 85\n",
            "Ingrese el nombre del estudiante: Mariana\n",
            "Ingrese la primera nota: 95\n",
            "Ingrese la segunda nota: 88\n",
            "Ingrese la tercera nota: 92\n",
            "\n",
            "REPORTE DE CALIFICACIONES\n",
            "NOMBRE\t\tNOTA1\tNOTA2\tNOTA3\tNOTA FINAL\n",
            "Maria\t\t90.0\t100.0\t85.0\t91.67\n",
            "Mariana\t\t95.0\t88.0\t92.0\t91.67\n",
            "\n",
            "TOTAL 2 ESTUDIANTES\n"
          ]
        }
      ]
    }
  ]
}