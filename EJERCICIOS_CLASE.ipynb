{
  "nbformat": 4,
  "nbformat_minor": 0,
  "metadata": {
    "colab": {
      "provenance": []
    },
    "kernelspec": {
      "name": "python3",
      "display_name": "Python 3"
    },
    "language_info": {
      "name": "python"
    }
  },
  "cells": [
    {
      "cell_type": "code",
      "execution_count": 4,
      "metadata": {
        "colab": {
          "base_uri": "https://localhost:8080/"
        },
        "id": "Imyi-SoQLFMy",
        "outputId": "fc2c2373-933f-4a4b-8f36-7aa852f39882"
      },
      "outputs": [
        {
          "output_type": "stream",
          "name": "stdout",
          "text": [
            "Ingrese una letra: 5\n",
            "5 es una variable de tipo <class 'int'>\n"
          ]
        }
      ],
      "source": [
        "#Respuesta pra :V\n",
        "letra=input(\"Ingrese una letra: \")\n",
        "num=None\n",
        "for conv in (int,float):\n",
        "  try:\n",
        "    num=conv(letra)\n",
        "    break\n",
        "  except ValueError:\n",
        "    pass\n",
        "if num==None: print(f\"{letra} es una variable de tipo {type(letra)}\")\n",
        "else: print(f\"{letra} es una variable de tipo {type(num)}\")"
      ]
    },
    {
      "cell_type": "code",
      "source": [
        "a=int(\"a\")\n",
        "a= pra"
      ],
      "metadata": {
        "colab": {
          "base_uri": "https://localhost:8080/",
          "height": 159
        },
        "id": "859Zu6XsOuk5",
        "outputId": "819fa639-1099-48d2-e952-b4edbbb3200b"
      },
      "execution_count": 6,
      "outputs": [
        {
          "output_type": "error",
          "ename": "ValueError",
          "evalue": "invalid literal for int() with base 10: 'a'",
          "traceback": [
            "\u001b[0;31m---------------------------------------------------------------------------\u001b[0m",
            "\u001b[0;31mValueError\u001b[0m                                Traceback (most recent call last)",
            "\u001b[0;32m<ipython-input-6-bd5e3f613565>\u001b[0m in \u001b[0;36m<cell line: 1>\u001b[0;34m()\u001b[0m\n\u001b[0;32m----> 1\u001b[0;31m \u001b[0ma\u001b[0m\u001b[0;34m=\u001b[0m\u001b[0mint\u001b[0m\u001b[0;34m(\u001b[0m\u001b[0;34m\"a\"\u001b[0m\u001b[0;34m)\u001b[0m\u001b[0;34m\u001b[0m\u001b[0;34m\u001b[0m\u001b[0m\n\u001b[0m\u001b[1;32m      2\u001b[0m \u001b[0ma\u001b[0m\u001b[0;34m=\u001b[0m \u001b[0mpra\u001b[0m\u001b[0;34m\u001b[0m\u001b[0;34m\u001b[0m\u001b[0m\n",
            "\u001b[0;31mValueError\u001b[0m: invalid literal for int() with base 10: 'a'"
          ]
        }
      ]
    },
    {
      "cell_type": "code",
      "source": [
        "a=int(input(\"Ingrese el dividendo: \"))\n",
        "b=int(input(\"Ingrese el divisor: \"))\n",
        "try:\n",
        "  division=a/b\n",
        "  print(f\"{a}/{b}={division}\")\n",
        "except ZeroDivisionError:\n",
        "  print(\"Infinito\")"
      ],
      "metadata": {
        "colab": {
          "base_uri": "https://localhost:8080/"
        },
        "id": "ctVogr2VMqhs",
        "outputId": "4ebfed4c-ef25-42ea-aa76-deb43cb5b11f"
      },
      "execution_count": 7,
      "outputs": [
        {
          "output_type": "stream",
          "name": "stdout",
          "text": [
            "Ingrese el dividendo13\n",
            "Ingrese el divisor0\n",
            "Infinito\n"
          ]
        }
      ]
    },
    {
      "cell_type": "code",
      "source": [
        "a=input(\"¿Quieres helado?: \")\n",
        "a=a[0].lower()\n",
        "if a==\"s\":\n",
        "  f=input(\"¿Que sabor quieres?\")\n",
        "  if f==\"chocolate\": print(f\"Aquí está su helado de {f}. Me debe 5000\")\n",
        "  elif f==\"vainilla\": print(f\"Aquí esta su helado de {f}. Me debe 4000\")\n",
        "  elif f==\"fresa\": print(f\"Aquí esta su helado de {f}. Me debe 10000\")\n",
        "  elif f==\"Ron con pasas\": print(f\"Aquí esta su helado de {f}. Me debe 7000\")\n",
        "  else: print(\"Lo siento, no tenemos ese sabor\")\n",
        "else:\n",
        "  print(\"Ok\")"
      ],
      "metadata": {
        "colab": {
          "base_uri": "https://localhost:8080/"
        },
        "id": "b2YVqSijP5yI",
        "outputId": "c5399eaa-cfc0-4dde-e65c-084e2e00d782"
      },
      "execution_count": 8,
      "outputs": [
        {
          "output_type": "stream",
          "name": "stdout",
          "text": [
            "¿Quieres helado?: Si\n",
            "¿Que sabor quieres?vainilla\n",
            "Aquí esta su helado de vainilla. Me debe 4000\n"
          ]
        }
      ]
    },
    {
      "cell_type": "code",
      "source": [
        "a=input(\"¿Quieres helado?: \")\n",
        "a=a[0].lower()\n",
        "if a==\"s\":\n",
        "  f=input(\"¿Que sabor quieres?\")\n",
        "  match f:\n",
        "    case f==\"chocolate\": print(f\"Aquí está su helado de {f}. Me debe 5000\")\n",
        "    case f==\"vainilla\": print(f\"Aquí esta su helado de {f}. Me debe 4000\")\n",
        "    case f==\"fresa\": print(f\"Aquí esta su helado de {f}. Me debe 10000\")\n",
        "    case f==\"Ron con pasas\": print(f\"Aquí esta su helado de {f}. Me debe 7000\")\n",
        "    case: print(\"Lo siento, no tenemos ese sabor\")\n",
        "else:\n",
        "  print(\"Ok\")"
      ],
      "metadata": {
        "id": "vvstQBQeSNjm"
      },
      "execution_count": null,
      "outputs": []
    },
    {
      "cell_type": "code",
      "source": [
        "# Match\n",
        "letra = input(\"Ingrese una letra: \")\n",
        "match letra:\n",
        "    case \"a\"|\"e\"|\"i\"|\"o\"|\"u\": print(\"Es una vocal minúscula\")\n",
        "    case \"A\"|\"E\"|\"I\"|\"O\"|\"U\": print(\"Es una vocal mayúscula\")\n",
        "    case _: print(\"No es una vocal\")\n",
        "\n",
        "# Elif\n",
        "if letra in 'aeiou':\n",
        "    print(\"Es una vocal minúscula\")\n",
        "elif letra in 'AEIOU':\n",
        "    print(\"Es una vocal mayúscula\")"
      ],
      "metadata": {
        "colab": {
          "base_uri": "https://localhost:8080/"
        },
        "id": "k0ZFnDgMVJXL",
        "outputId": "b552775c-8abc-4970-ac0e-a8bbb4ffe05d"
      },
      "execution_count": 16,
      "outputs": [
        {
          "output_type": "stream",
          "name": "stdout",
          "text": [
            "Ingrese una letra: e\n",
            "Es una vocal minúscula\n",
            "Es una vocal minúscula\n"
          ]
        }
      ]
    },
    {
      "cell_type": "code",
      "source": [
        "# Match\n",
        "letra = input(\"Ingrese una letra: \")\n",
        "match letra:\n",
        "    case \"a\"|\"e\"|\"i\"|\"o\"|\"u\":\n",
        "      print(\"Es una vocal minúscula\")\n",
        "    case \"A\"|\"E\"|\"I\"|\"O\"|\"U\":\n",
        "      print(\"Es una vocal mayúscula\")\n",
        "    case _:\n",
        "      print(\"No es una vocal\")\n",
        "\n",
        "# Elif\n",
        "letra = input(\"Ingrese una letra: \")\n",
        "if letra in 'aeiou':\n",
        "    print(\"Es una vocal minúscula\")\n",
        "elif letra in 'AEIOU':\n",
        "    print(\"Es una vocal mayúscula\")"
      ],
      "metadata": {
        "colab": {
          "base_uri": "https://localhost:8080/"
        },
        "id": "7fg88-bDYdFY",
        "outputId": "83851e5e-3b9a-4a01-953e-a57d797a7a47"
      },
      "execution_count": 18,
      "outputs": [
        {
          "output_type": "stream",
          "name": "stdout",
          "text": [
            "Ingrese una letra: m\n",
            "No es una vocal\n"
          ]
        }
      ]
    },
    {
      "cell_type": "code",
      "source": [
        "#4\n",
        "numero = int(input(\"Introduce un número del 0 al 9: \"))\n",
        "if 0 <= numero <= 9:\n",
        "    if numero % 2 == 0:\n",
        "        print(f\"El número {numero} es par.\")\n",
        "    elif numero % 2 !=0:\n",
        "        print(f\"El número {numero} es impar.\")\n",
        "else:\n",
        "    print(\"El número no pertenece al rango del 0 al 9.\")"
      ],
      "metadata": {
        "colab": {
          "base_uri": "https://localhost:8080/"
        },
        "id": "bBysSALIbfNe",
        "outputId": "ce41aa03-aa5f-40c9-b0b2-6ca4f43aec33"
      },
      "execution_count": 20,
      "outputs": [
        {
          "output_type": "stream",
          "name": "stdout",
          "text": [
            "Introduce un número del 0 al 9: 2\n",
            "El número 2 es par.\n"
          ]
        }
      ]
    },
    {
      "cell_type": "code",
      "source": [
        "#2 Se presentan 3 personas: Definir cual es el mayor de los 3. Definir de acuerdo a su edad si es un adulto, adolecente o niño\n",
        "\n",
        "edad1 = int(input(\"Ingresa la edad de la primera persona: \"))\n",
        "edad2 = int(input(\"Ingresa la edad de la segunda persona: \"))\n",
        "edad3 = int(input(\"Ingresa la edad de la tercera persona: \"))\n",
        "\n",
        "mayor_edad = edad1 if (edad1 > edad2 and edad1 > edad3) else (\n",
        "             edad2 if (edad2 > edad3) else edad3)\n",
        "\n",
        "categoria1 = \"Adulto\" if edad1 >= 18 else \"Adolescente\" if edad1 >= 13 else \"Niño\"\n",
        "categoria2 = \"Adulto\" if edad2 >= 18 else \"Adolescente\" if edad2 >= 13 else \"Niño\"\n",
        "categoria3 = \"Adulto\" if edad3 >= 18 else \"Adolescente\" if edad3 >= 13 else \"Niño\"\n",
        "\n",
        "print(f\"La persona de mayor edad tiene {mayor_edad} años.\")\n",
        "print(f\"La primera persona es un {categoria1}.\")\n",
        "print(f\"La segunda persona es un {categoria2}.\")\n",
        "print(f\"La tercera persona es un {categoria3}.\")"
      ],
      "metadata": {
        "colab": {
          "base_uri": "https://localhost:8080/"
        },
        "id": "vZp8kW4Vesk7",
        "outputId": "13eb0f96-48c5-4367-e18b-5f699a8c8846"
      },
      "execution_count": 23,
      "outputs": [
        {
          "output_type": "stream",
          "name": "stdout",
          "text": [
            "Ingresa la edad de la primera persona: 20\n",
            "Ingresa la edad de la segunda persona: 12\n",
            "Ingresa la edad de la tercera persona: 45\n",
            "La persona de mayor edad tiene 45 años.\n",
            "La primera persona es un Adulto.\n",
            "La segunda persona es un Niño.\n",
            "La tercera persona es un Adulto.\n"
          ]
        }
      ]
    }
  ]
}