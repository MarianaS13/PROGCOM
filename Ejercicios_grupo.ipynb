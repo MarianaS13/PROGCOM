{
  "nbformat": 4,
  "nbformat_minor": 0,
  "metadata": {
    "colab": {
      "provenance": []
    },
    "kernelspec": {
      "name": "python3",
      "display_name": "Python 3"
    },
    "language_info": {
      "name": "python"
    }
  },
  "cells": [
    {
      "cell_type": "code",
      "execution_count": null,
      "metadata": {
        "colab": {
          "base_uri": "https://localhost:8080/"
        },
        "id": "dbkMlBlboSPU",
        "outputId": "522ca479-b2ee-49f6-be4f-357883363afb"
      },
      "outputs": [
        {
          "output_type": "stream",
          "name": "stdout",
          "text": [
            "Ingrese un número para verificar si es primo: 5\n",
            "El número 5 es primo.\n"
          ]
        }
      ],
      "source": [
        "#Mientras\n",
        "def es_primo(n):\n",
        "    if n < 2:\n",
        "        return False\n",
        "    i = 2\n",
        "    while i * i <= n:\n",
        "        if n % i == 0:\n",
        "            return False\n",
        "        i += 1\n",
        "    return True\n",
        "\n",
        "N = int(input(\"Ingrese un número para verificar si es primo: \"))\n",
        "\n",
        "\n",
        "if es_primo(N):\n",
        "    print(f\"El número {N} es primo.\")\n",
        "else:\n",
        "    print(f\"El número {N} no es primo.\")"
      ]
    },
    {
      "cell_type": "code",
      "source": [
        "#Para\n",
        "def es_primo(n):\n",
        "    if n < 2:\n",
        "        return False\n",
        "    for i in range(2, int(n**0.5) + 1):\n",
        "        if n % i == 0:\n",
        "            return False\n",
        "    return True\n",
        "\n",
        "\n",
        "N = int(input(\"Ingrese un número para verificar si es primo: \"))\n",
        "\n",
        "\n",
        "if es_primo(N):\n",
        "    print(f\"El número {N} es primo.\")\n",
        "else:\n",
        "    print(f\"El número {N} no es primo.\")"
      ],
      "metadata": {
        "colab": {
          "base_uri": "https://localhost:8080/"
        },
        "id": "OpX-OJx-piV3",
        "outputId": "176de038-cca5-4e5d-c75e-31420c887294"
      },
      "execution_count": null,
      "outputs": [
        {
          "output_type": "stream",
          "name": "stdout",
          "text": [
            "Ingrese un número para verificar si es primo: 8\n",
            "El número 8 no es primo.\n"
          ]
        }
      ]
    },
    {
      "cell_type": "code",
      "source": [
        "#Mientras\n",
        "def fibonacci_while():\n",
        "    a, b = 0, 1\n",
        "    count = 0\n",
        "    fibonacci_nums = []\n",
        "\n",
        "    while count < 30:\n",
        "        fibonacci_nums.append(a)\n",
        "        a, b = b, a + b\n",
        "        count += 1\n",
        "\n",
        "    return fibonacci_nums\n",
        "\n",
        "numeros_fibonacci = fibonacci_while()\n",
        "\n",
        "print(\"Los 30 primeros números de Fibonacci (usando while) son:\")\n",
        "for i, num in enumerate(numeros_fibonacci, start=1):\n",
        "    print(f\"{i}. {num}\")"
      ],
      "metadata": {
        "colab": {
          "base_uri": "https://localhost:8080/"
        },
        "id": "Nlu2hw36qfBc",
        "outputId": "352f00f7-7d95-44c3-cf16-87b49bb2fc65"
      },
      "execution_count": null,
      "outputs": [
        {
          "output_type": "stream",
          "name": "stdout",
          "text": [
            "Los 30 primeros números de Fibonacci (usando while) son:\n",
            "1. 0\n",
            "2. 1\n",
            "3. 1\n",
            "4. 2\n",
            "5. 3\n",
            "6. 5\n",
            "7. 8\n",
            "8. 13\n",
            "9. 21\n",
            "10. 34\n",
            "11. 55\n",
            "12. 89\n",
            "13. 144\n",
            "14. 233\n",
            "15. 377\n",
            "16. 610\n",
            "17. 987\n",
            "18. 1597\n",
            "19. 2584\n",
            "20. 4181\n",
            "21. 6765\n",
            "22. 10946\n",
            "23. 17711\n",
            "24. 28657\n",
            "25. 46368\n",
            "26. 75025\n",
            "27. 121393\n",
            "28. 196418\n",
            "29. 317811\n",
            "30. 514229\n"
          ]
        }
      ]
    },
    {
      "cell_type": "code",
      "source": [
        "#Para\n",
        "def fibonacci_for():\n",
        "\n",
        "    fibonacci_nums = [0, 1]\n",
        "\n",
        "\n",
        "    for _ in range(28):\n",
        "        fibonacci_nums.append(fibonacci_nums[-1] + fibonacci_nums[-2])\n",
        "\n",
        "    return fibonacci_nums\n",
        "\n",
        "\n",
        "numeros_fibonacci = fibonacci_for()\n",
        "\n",
        "\n",
        "print(\"Los 30 primeros números de Fibonacci (usando for) son:\")\n",
        "for i, num in enumerate(numeros_fibonacci, start=1):\n",
        "    print(f\"{i}. {num}\")"
      ],
      "metadata": {
        "colab": {
          "base_uri": "https://localhost:8080/"
        },
        "id": "4t2S5kM0raDK",
        "outputId": "94b9d77f-7151-4bc8-f5a1-878adcbbcc1e"
      },
      "execution_count": null,
      "outputs": [
        {
          "output_type": "stream",
          "name": "stdout",
          "text": [
            "Los 30 primeros números de Fibonacci (usando for) son:\n",
            "1. 0\n",
            "2. 1\n",
            "3. 1\n",
            "4. 2\n",
            "5. 3\n",
            "6. 5\n",
            "7. 8\n",
            "8. 13\n",
            "9. 21\n",
            "10. 34\n",
            "11. 55\n",
            "12. 89\n",
            "13. 144\n",
            "14. 233\n",
            "15. 377\n",
            "16. 610\n",
            "17. 987\n",
            "18. 1597\n",
            "19. 2584\n",
            "20. 4181\n",
            "21. 6765\n",
            "22. 10946\n",
            "23. 17711\n",
            "24. 28657\n",
            "25. 46368\n",
            "26. 75025\n",
            "27. 121393\n",
            "28. 196418\n",
            "29. 317811\n",
            "30. 514229\n"
          ]
        }
      ]
    },
    {
      "cell_type": "code",
      "source": [
        "#Mientras\n",
        "def factorial_while(n):\n",
        "    resultado = 1\n",
        "    i = 1\n",
        "    while i <= n:\n",
        "        resultado *= i\n",
        "        i += 1\n",
        "    return resultado\n",
        "\n",
        "\n",
        "N = int(input(\"Ingrese un número para calcular su factorial: \"))\n",
        "\n",
        "resultado = factorial_while(N)\n",
        "print(f\"El factorial de {N} es: {resultado}\")"
      ],
      "metadata": {
        "colab": {
          "base_uri": "https://localhost:8080/"
        },
        "id": "9ZV0jpdRrmVQ",
        "outputId": "63780cf8-b4b5-400d-b85a-ceee85ee804e"
      },
      "execution_count": null,
      "outputs": [
        {
          "output_type": "stream",
          "name": "stdout",
          "text": [
            "Ingrese un número para calcular su factorial: 8\n",
            "El factorial de 8 es: 40320\n"
          ]
        }
      ]
    },
    {
      "cell_type": "code",
      "source": [
        "#Para\n",
        "def factorial_for(n):\n",
        "    resultado = 1\n",
        "    for i in range(1, n + 1):\n",
        "        resultado *= i\n",
        "    return resultado\n",
        "\n",
        "\n",
        "N = int(input(\"Ingrese un número para calcular su factorial: \"))\n",
        "\n",
        "\n",
        "resultado = factorial_for(N)\n",
        "print(f\"El factorial de {N} es: {resultado}\")"
      ],
      "metadata": {
        "colab": {
          "base_uri": "https://localhost:8080/"
        },
        "id": "YvZ97ok6sGfr",
        "outputId": "65b10d72-7263-4777-8c57-2ff966512be2"
      },
      "execution_count": null,
      "outputs": [
        {
          "output_type": "stream",
          "name": "stdout",
          "text": [
            "Ingrese un número para calcular su factorial: 258\n",
            "El factorial de 258 es: 56878465411882525024019869106095810443711861483651573510414327553915228320989004061260555958946091088710623453508969559004059093321200238492719713563110330058714032972946730753868022316902240107823463759719680928160493952481819610819007374844441824697652051115339179081141100212631179271854890626131975300539844183321097520081102320544748815063511124295784925759777654006636479482711740126764956099108357637301664918401416624491645555527002584252416000000000000000000000000000000000000000000000000000000000000000\n"
          ]
        }
      ]
    },
    {
      "cell_type": "code",
      "source": [
        "def factorial_while(n):\n",
        "    resultado = 1\n",
        "    i = 1\n",
        "    while i <= n:\n",
        "        resultado *= i\n",
        "        i += 1\n",
        "    return resultado\n",
        "\n",
        "contador = 0\n",
        "while contador < 10:\n",
        "    num = int(input(f\"Ingrese el número {contador + 1}: \"))\n",
        "    fact = factorial_while(num)\n",
        "    print(f\"El factorial de {num} es: {fact}\")\n",
        "    contador += 1"
      ],
      "metadata": {
        "colab": {
          "base_uri": "https://localhost:8080/"
        },
        "id": "fQSWbcHhsuYj",
        "outputId": "926326d8-a450-4ec9-f1d6-04c5d812adda"
      },
      "execution_count": null,
      "outputs": [
        {
          "output_type": "stream",
          "name": "stdout",
          "text": [
            "Ingrese el número 1: 1\n",
            "El factorial de 1 es: 1\n",
            "Ingrese el número 2: 2\n",
            "El factorial de 2 es: 2\n",
            "Ingrese el número 3: 3\n",
            "El factorial de 3 es: 6\n",
            "Ingrese el número 4: 5\n",
            "El factorial de 5 es: 120\n",
            "Ingrese el número 5: 6\n",
            "El factorial de 6 es: 720\n",
            "Ingrese el número 6: 7\n",
            "El factorial de 7 es: 5040\n",
            "Ingrese el número 7: 8\n",
            "El factorial de 8 es: 40320\n",
            "Ingrese el número 8: 9\n",
            "El factorial de 9 es: 362880\n",
            "Ingrese el número 9: 10\n",
            "El factorial de 10 es: 3628800\n",
            "Ingrese el número 10: 11\n",
            "El factorial de 11 es: 39916800\n"
          ]
        }
      ]
    },
    {
      "cell_type": "code",
      "source": [
        "def factorial_for(n):\n",
        "    resultado = 1\n",
        "    for i in range(1, n + 1):\n",
        "        resultado *= i\n",
        "    return resultado\n",
        "\n",
        "for i in range(10):\n",
        "    num = int(input(f\"Ingrese el número {i + 1}: \"))\n",
        "    fact = factorial_for(num)\n",
        "    print(f\"El factorial de {num} es: {fact}\")"
      ],
      "metadata": {
        "collapsed": true,
        "id": "3AjEIJthsttd"
      },
      "execution_count": null,
      "outputs": []
    },
    {
      "cell_type": "code",
      "source": [
        "contador = 0\n",
        "mayor = float('-inf')\n",
        "menor = float('inf')\n",
        "\n",
        "while contador < 20:\n",
        "    num = float(input(f\"Ingrese el número {contador + 1}: \"))\n",
        "    if num > mayor:\n",
        "        mayor = num\n",
        "    if num < menor:\n",
        "        menor = num\n",
        "    contador += 1\n",
        "\n",
        "print(f\"El mayor valor leído es: {mayor}\")\n",
        "print(f\"El menor valor leído es: {menor}\")"
      ],
      "metadata": {
        "id": "nBd1Y5gLsyrR"
      },
      "execution_count": null,
      "outputs": []
    },
    {
      "cell_type": "code",
      "source": [
        "mayor = float('-inf')\n",
        "menor = float('inf')\n",
        "\n",
        "for i in range(20):\n",
        "    num = float(input(f\"Ingrese el número {i + 1}: \"))\n",
        "    if num > mayor:\n",
        "        mayor = num\n",
        "    if num < menor:\n",
        "        menor = num\n",
        "\n",
        "print(f\"El mayor valor leído es: {mayor}\")\n",
        "print(f\"El menor valor leído es: {menor}\")"
      ],
      "metadata": {
        "id": "t03UiI85tt5x"
      },
      "execution_count": null,
      "outputs": []
    },
    {
      "cell_type": "code",
      "source": [
        "while True:\n",
        "    num = int(input(\"Ingrese un número entre 1 y 10: \"))\n",
        "    if 1 <= num <= 10:\n",
        "        break\n",
        "    print(\"Número fuera de rango. Intente nuevamente.\")\n",
        "\n",
        "i = 1\n",
        "while i <= 10:\n",
        "    print(f\"{num} x {i} = {num * i}\")\n",
        "    i += 1"
      ],
      "metadata": {
        "id": "FtnSS28gtuuz"
      },
      "execution_count": null,
      "outputs": []
    },
    {
      "cell_type": "code",
      "source": [
        "while True:\n",
        "    num = int(input(\"Ingrese un número entre 1 y 10: \"))\n",
        "    if 1 <= num <= 10:\n",
        "        break\n",
        "    print(\"Número fuera de rango. Intente nuevamente.\")\n",
        "\n",
        "for i in range(1, 11):\n",
        "    print(f\"{num} x {i} = {num * i}\")"
      ],
      "metadata": {
        "id": "EAW0_2w0t13w"
      },
      "execution_count": null,
      "outputs": []
    },
    {
      "cell_type": "code",
      "source": [
        "suma = 0\n",
        "num = 100\n",
        "\n",
        "while num >= 0:\n",
        "    suma += num\n",
        "    num -= 10\n",
        "\n",
        "print(f\"La suma es: {suma}\")"
      ],
      "metadata": {
        "id": "EYZnuPpjt6Ha"
      },
      "execution_count": null,
      "outputs": []
    },
    {
      "cell_type": "code",
      "source": [
        "N = int(input(\"Ingrese un número entero N: \"))\n",
        "suma = 0\n",
        "i = 1\n",
        "\n",
        "while i <= N:\n",
        "    if i % 2 == 1:\n",
        "        suma += 1/i\n",
        "    else:\n",
        "        suma -= 1/i\n",
        "    i += 1\n",
        "\n",
        "print(f\"El resultado de la serie es: {suma}\")"
      ],
      "metadata": {
        "id": "B634OKiGuHKS"
      },
      "execution_count": null,
      "outputs": []
    },
    {
      "cell_type": "code",
      "source": [
        "suma = sum(range(0, 101, 10))\n",
        "print(f\"La suma es: {suma}\")"
      ],
      "metadata": {
        "id": "EXiW2jyNt_Da"
      },
      "execution_count": null,
      "outputs": []
    },
    {
      "cell_type": "code",
      "source": [
        "N = int(input(\"Ingrese un número entero N: \"))\n",
        "suma = 0\n",
        "i = 1\n",
        "\n",
        "while i <= N:\n",
        "    if i % 2 == 1:\n",
        "        suma += 1/i\n",
        "    else:\n",
        "        suma -= 1/i\n",
        "    i += 1\n",
        "\n",
        "print(f\"El resultado de la serie es: {suma}\")"
      ],
      "metadata": {
        "id": "tAacYU62uIG7"
      },
      "execution_count": null,
      "outputs": []
    },
    {
      "cell_type": "code",
      "source": [
        "N = int(input(\"Ingrese un número entero N: \"))\n",
        "suma = sum((-1)**(i+1) * (1/i) for i in range(1, N+1))\n",
        "\n",
        "print(f\"El resultado de la serie es: {suma}\")"
      ],
      "metadata": {
        "id": "edBL2M6rubF-"
      },
      "execution_count": null,
      "outputs": []
    },
    {
      "cell_type": "code",
      "source": [
        "N = int(input(\"Ingrese un número entero N: \"))\n",
        "suma = 0\n",
        "numerador = 2\n",
        "denominador = 1\n",
        "contador = 0\n",
        "\n",
        "while contador < N:\n",
        "    suma += numerador / denominador\n",
        "    numerador += 2\n",
        "    denominador += 2\n",
        "    contador += 1\n",
        "\n",
        "print(f\"El resultado de la serie hasta {N} valores es: {suma}\")"
      ],
      "metadata": {
        "id": "4qrDt2Otulyh"
      },
      "execution_count": null,
      "outputs": []
    },
    {
      "cell_type": "code",
      "source": [
        "N = int(input(\"Ingrese un número entero N: \"))\n",
        "suma = sum((2*i) / (2*i - 1) for i in range(1, N+1))\n",
        "\n",
        "print(f\"El resultado de la serie hasta {N} valores es: {suma}\")"
      ],
      "metadata": {
        "id": "k4PfjHjiumw3"
      },
      "execution_count": null,
      "outputs": []
    },
    {
      "cell_type": "code",
      "source": [
        "producto = 1\n",
        "while True:\n",
        "    num = int(input(\"Ingrese un número (fuera del rango 1-10 para terminar): \"))\n",
        "    if num < 1 or num > 10:\n",
        "        break\n",
        "    producto *= num\n",
        "\n",
        "print(f\"El producto de los números en rango es: {producto}\")"
      ],
      "metadata": {
        "id": "CEV00Yw3uqdz"
      },
      "execution_count": null,
      "outputs": []
    },
    {
      "cell_type": "code",
      "source": [
        "producto = 1\n",
        "for _ in range(1000):  # Un límite arbitrario alto\n",
        "    num = int(input(\"Ingrese un número (fuera del rango 1-10 para terminar): \"))\n",
        "    if num < 1 or num > 10:\n",
        "        break\n",
        "    producto *= num\n",
        "\n",
        "print(f\"El producto de los números en rango es: {producto}\")"
      ],
      "metadata": {
        "id": "CI98DAZMutoY"
      },
      "execution_count": null,
      "outputs": []
    }
  ]
}