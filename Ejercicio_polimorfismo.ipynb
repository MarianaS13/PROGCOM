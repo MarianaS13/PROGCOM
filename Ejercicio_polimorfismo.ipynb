{
  "nbformat": 4,
  "nbformat_minor": 0,
  "metadata": {
    "colab": {
      "provenance": []
    },
    "kernelspec": {
      "name": "python3",
      "display_name": "Python 3"
    },
    "language_info": {
      "name": "python"
    }
  },
  "cells": [
    {
      "cell_type": "code",
      "execution_count": 4,
      "metadata": {
        "colab": {
          "base_uri": "https://localhost:8080/"
        },
        "id": "2jSyDu2djfFz",
        "outputId": "e117f2d9-5ab8-4980-f708-b4bfe9ea25c5"
      },
      "outputs": [
        {
          "output_type": "stream",
          "name": "stdout",
          "text": [
            "Habilidades humanas: nadar, caminar\n",
            "Habilidades de sirena: respirar bajo el agua, nadar rápido, canto\n",
            "Habilidades humanas: aún no tiene poderes de sirena\n",
            "Marina aún no ha despertado su poder de canto.\n",
            "Habilidades de híbrido: habilidades humanas y de sirena\n",
            "Merliah está usando su poder de canto como híbrido.\n"
          ]
        }
      ],
      "source": [
        "class Humano:\n",
        "    def __init__(self, nombre, edad):\n",
        "        self.nombre = nombre\n",
        "        self.edad = edad\n",
        "\n",
        "    def habilidades(self):\n",
        "        return \"Habilidades humanas: nadar, caminar\"\n",
        "\n",
        "class Sirena:\n",
        "    def __init__(self, nombre, edad):\n",
        "        self.nombre = nombre\n",
        "        self.edad = edad\n",
        "\n",
        "    def habilidades(self):\n",
        "        return \"Habilidades de sirena: respirar bajo el agua, nadar rápido, canto\"\n",
        "\n",
        "class Hibrido(Humano, Sirena):\n",
        "    def __init__(self, nombre, edad):\n",
        "        super().__init__(nombre, edad)\n",
        "        self.ha_despertado = False\n",
        "        if edad >= 18:\n",
        "            self.despertar_poderes()\n",
        "\n",
        "    def despertar_poderes(self):\n",
        "        self.ha_despertado = True\n",
        "\n",
        "    def habilidades(self):\n",
        "        if self.ha_despertado:\n",
        "            return \"Habilidades de híbrido: habilidades humanas y de sirena\"\n",
        "        else:\n",
        "            return \"Habilidades humanas: aún no tiene poderes de sirena\"\n",
        "\n",
        "    def cantar(self):\n",
        "        if self.ha_despertado:\n",
        "            return f\"{self.nombre} está usando su poder de canto como híbrido.\"\n",
        "        else:\n",
        "            return f\"{self.nombre} aún no ha despertado su poder de canto.\"\n",
        "\n",
        "# Ejemplo de uso\n",
        "humano = Humano(\"Break\", 38)\n",
        "sirena = Sirena(\"Calissa\", 35)\n",
        "hibrido_menor = Hibrido(\"Marina\", 13)\n",
        "hibrido_mayor = Hibrido(\"Merliah\", 18)\n",
        "\n",
        "# Mostrar habilidades y poderes de canto\n",
        "print(humano.habilidades())\n",
        "print(sirena.habilidades())\n",
        "print(hibrido_menor.habilidades())\n",
        "print(hibrido_menor.cantar())\n",
        "print(hibrido_mayor.habilidades())\n",
        "print(hibrido_mayor.cantar())\n"
      ]
    }
  ]
}