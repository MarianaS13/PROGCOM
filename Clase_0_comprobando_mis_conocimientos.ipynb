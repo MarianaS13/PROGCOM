{
  "nbformat": 4,
  "nbformat_minor": 0,
  "metadata": {
    "colab": {
      "provenance": []
    },
    "kernelspec": {
      "name": "python3",
      "display_name": "Python 3"
    },
    "language_info": {
      "name": "python"
    }
  },
  "cells": [
    {
      "cell_type": "markdown",
      "source": [
        "##Tipo de datos\n",
        "1. Numerico\n",
        "- Entero: int\n",
        "- Decimal: float\n",
        "2. Alfanumerico o cadena de caracteres.\n",
        "(String - str)\n",
        "3. Lógico: Boolean - bool\n",
        "4. Lista: list[]\n",
        "5. Diccionarios: {}\n",
        "\n",
        "Para saber que tipo de datos estamos manipulando, se usa la función type()"
      ],
      "metadata": {
        "id": "XkgQxaQ1GOhj"
      }
    },
    {
      "cell_type": "markdown",
      "source": [
        "#Prueba de evaluacion de conocimientos\n"
      ],
      "metadata": {
        "id": "-2xJnRliFgKs"
      }
    },
    {
      "cell_type": "code",
      "execution_count": null,
      "metadata": {
        "colab": {
          "base_uri": "https://localhost:8080/"
        },
        "id": "kTw0qLqKE-dR",
        "outputId": "02b0ca29-d2cc-4ac2-e5cb-9187e5555edc"
      },
      "outputs": [
        {
          "output_type": "execute_result",
          "data": {
            "text/plain": [
              "17"
            ]
          },
          "metadata": {},
          "execution_count": 1
        }
      ],
      "source": [
        "5+3*4"
      ]
    },
    {
      "cell_type": "code",
      "source": [
        "type(5+3*4)"
      ],
      "metadata": {
        "colab": {
          "base_uri": "https://localhost:8080/"
        },
        "id": "3KbLt3JGHupK",
        "outputId": "b92b4cf6-1a35-4910-a86e-98b2410b442d"
      },
      "execution_count": null,
      "outputs": [
        {
          "output_type": "execute_result",
          "data": {
            "text/plain": [
              "int"
            ]
          },
          "metadata": {},
          "execution_count": 2
        }
      ]
    },
    {
      "cell_type": "code",
      "source": [
        "print(f\"5+3*4={5+3*4} y da como resultado un valor de tipo {type(5+3*4)}\")"
      ],
      "metadata": {
        "colab": {
          "base_uri": "https://localhost:8080/"
        },
        "id": "xWjlAhBqIZCR",
        "outputId": "f5af54ac-6c3d-45c1-92b5-ef90ed9bd2f3"
      },
      "execution_count": null,
      "outputs": [
        {
          "output_type": "stream",
          "name": "stdout",
          "text": [
            "5+3*4=17 y da como resultado un valor de tipo <class 'int'>\n"
          ]
        }
      ]
    },
    {
      "cell_type": "code",
      "source": [
        "#Cuando se usa suma en strings, sucede la concatenacion\n",
        "\"5\"+\"3\"*2"
      ],
      "metadata": {
        "colab": {
          "base_uri": "https://localhost:8080/",
          "height": 35
        },
        "id": "7yrkVnU0I1I5",
        "outputId": "c03d41be-9d97-44d1-cf9f-862754e4af0c"
      },
      "execution_count": null,
      "outputs": [
        {
          "output_type": "execute_result",
          "data": {
            "text/plain": [
              "'533'"
            ],
            "application/vnd.google.colaboratory.intrinsic+json": {
              "type": "string"
            }
          },
          "metadata": {},
          "execution_count": 4
        }
      ]
    },
    {
      "cell_type": "code",
      "source": [
        "#= es asignacion, == es comparacion\n",
        "2**11 == 1000"
      ],
      "metadata": {
        "id": "w67fxclSJFwN"
      },
      "execution_count": null,
      "outputs": []
    },
    {
      "cell_type": "markdown",
      "source": [
        "##Operaciones lógicas\n",
        "1. Disyunción (o): Una proposicion es verdadera, si al menos una de ella lo es. En python se puede enunciar con la palabra **or** o con **||**.\n",
        "Ejemplo: V OR V da V. V OR F da V. F OR V da V. F OR F da F.\n",
        "2. Conjuncion (y): Una preposicion es verdadera , si Y SOLO SI, ambas preposiciones son verdaderas. En python, se utiliza la palabra **and** o **&&** para su uso.\n",
        "Ejemplo: F and F da F; F and V da F; V and F da F; V and V da V.\n",
        "3. Negación (no): Niega el valor de una proposicion. Si el valor de verdad es true, se vuelve false. En python se usa la palabra **not** o ~ para denotarla."
      ],
      "metadata": {
        "id": "nML81sDzJsHY"
      }
    },
    {
      "cell_type": "code",
      "source": [
        "a=2 ** 11 == 1000 or 2 ** 9 == 100\n",
        "print(f\"El valor de la expresión a =2 ** 11 == 1000 or 2 ** 9 == 100 es {a}\")"
      ],
      "metadata": {
        "colab": {
          "base_uri": "https://localhost:8080/"
        },
        "id": "bvJfDIvoMC8e",
        "outputId": "445b0ae5-92db-457c-d7da-489e2d229606"
      },
      "execution_count": null,
      "outputs": [
        {
          "output_type": "stream",
          "name": "stdout",
          "text": [
            "El valor de la expresión a =2 ** 11 == 1000 or 2 ** 9 == 100 es False\n"
          ]
        }
      ]
    },
    {
      "cell_type": "code",
      "source": [
        "#Colocar un tipo de dato antes del dato, se usa para transformar el dato dentro del parentesis en el dato por fuera del parentesis\n",
        "int(\"cincuenta\")"
      ],
      "metadata": {
        "id": "wCyXz6ysNF89"
      },
      "execution_count": null,
      "outputs": []
    },
    {
      "cell_type": "code",
      "source": [
        "int(\"50\")"
      ],
      "metadata": {
        "colab": {
          "base_uri": "https://localhost:8080/"
        },
        "id": "aj-BlAaCOD1E",
        "outputId": "e5958e07-870c-4062-9e79-973f8e5a401e"
      },
      "execution_count": null,
      "outputs": [
        {
          "output_type": "execute_result",
          "data": {
            "text/plain": [
              "50"
            ]
          },
          "metadata": {},
          "execution_count": 8
        }
      ]
    },
    {
      "cell_type": "code",
      "source": [
        "str(\"50\")"
      ],
      "metadata": {
        "colab": {
          "base_uri": "https://localhost:8080/",
          "height": 35
        },
        "id": "6mU3rQS0OIDU",
        "outputId": "2d5a9ee5-53ae-4073-bd1b-5e98a7c17870"
      },
      "execution_count": null,
      "outputs": [
        {
          "output_type": "execute_result",
          "data": {
            "text/plain": [
              "'50'"
            ],
            "application/vnd.google.colaboratory.intrinsic+json": {
              "type": "string"
            }
          },
          "metadata": {},
          "execution_count": 9
        }
      ]
    },
    {
      "cell_type": "code",
      "source": [
        "#Siempre que halla una division, el resultado dara decimal (float)\n",
        "16/16 + 384/24"
      ],
      "metadata": {
        "colab": {
          "base_uri": "https://localhost:8080/"
        },
        "id": "uW_UpWnlOphc",
        "outputId": "4a32b8ef-a585-4f14-d06a-f9b9dd9eb3b2"
      },
      "execution_count": null,
      "outputs": [
        {
          "output_type": "execute_result",
          "data": {
            "text/plain": [
              "17.0"
            ]
          },
          "metadata": {},
          "execution_count": 10
        }
      ]
    },
    {
      "cell_type": "code",
      "source": [
        "a=16/16+384/24"
      ],
      "metadata": {
        "id": "aA_nsjDwPf_j"
      },
      "execution_count": null,
      "outputs": []
    },
    {
      "cell_type": "code",
      "source": [
        "print(f\"La operacion 16/16 + 384/24 es {a} y es de tipo {type(16/16 + 384/24)}\")"
      ],
      "metadata": {
        "colab": {
          "base_uri": "https://localhost:8080/"
        },
        "id": "RYfjc29tPS6b",
        "outputId": "e4912776-957a-450e-c5a7-36c51e3aee00"
      },
      "execution_count": null,
      "outputs": [
        {
          "output_type": "stream",
          "name": "stdout",
          "text": [
            "La operacion 16/16 + 384/24 es 17.0 y es de tipo <class 'float'>\n"
          ]
        }
      ]
    },
    {
      "cell_type": "code",
      "source": [
        "# % es el módulo de la operación\n",
        "600 + 18%"
      ],
      "metadata": {
        "id": "f-aGbp86P-1z"
      },
      "execution_count": null,
      "outputs": []
    },
    {
      "cell_type": "code",
      "source": [
        "0<(4096%10)<6"
      ],
      "metadata": {
        "colab": {
          "base_uri": "https://localhost:8080/"
        },
        "id": "3xYGvVhpQ3RC",
        "outputId": "00ef8ab3-0b48-4d48-f516-c924db9e1726"
      },
      "execution_count": null,
      "outputs": [
        {
          "output_type": "execute_result",
          "data": {
            "text/plain": [
              "False"
            ]
          },
          "metadata": {},
          "execution_count": 14
        }
      ]
    },
    {
      "cell_type": "code",
      "source": [
        "a='Max' + 'Min'"
      ],
      "metadata": {
        "id": "o6byiS6ARE8x"
      },
      "execution_count": null,
      "outputs": []
    },
    {
      "cell_type": "code",
      "source": [
        "print(f\"La operacio 'Max' + 'Min' es {a} y es de tipo{type('Max' + 'Min')}\")"
      ],
      "metadata": {
        "colab": {
          "base_uri": "https://localhost:8080/"
        },
        "id": "vDZ2Fs45Sboh",
        "outputId": "6bf18691-efc5-4ef1-83da-280ac2664e27"
      },
      "execution_count": null,
      "outputs": [
        {
          "output_type": "stream",
          "name": "stdout",
          "text": [
            "La operacio 'Max' + 'Min' es 17.0 y es de tipo<class 'str'>\n"
          ]
        }
      ]
    },
    {
      "cell_type": "code",
      "source": [
        "# ABC () es una función no definida\n",
        "ABC()*DEF()"
      ],
      "metadata": {
        "id": "jol4TiXpS5Z5"
      },
      "execution_count": null,
      "outputs": []
    },
    {
      "cell_type": "markdown",
      "source": [
        "abs(len('seis') - len('tres'))\n",
        "\n",
        "1. abs= valor absoluto\n",
        "2. len= cuenta la cantidad de letras de un string\n",
        "\n",
        "-len('seis')=4\n",
        "-len('tres')=4"
      ],
      "metadata": {
        "id": "_Yr-yDb-TuYo"
      }
    },
    {
      "cell_type": "code",
      "source": [
        "abs(len('seis') - len('tres'))"
      ],
      "metadata": {
        "colab": {
          "base_uri": "https://localhost:8080/"
        },
        "id": "VUYVboiTUh-3",
        "outputId": "b5681b7f-9e3d-4777-db4b-4053ba6f3734"
      },
      "execution_count": null,
      "outputs": [
        {
          "output_type": "execute_result",
          "data": {
            "text/plain": [
              "0"
            ]
          },
          "metadata": {},
          "execution_count": 17
        }
      ]
    },
    {
      "cell_type": "code",
      "source": [
        "#Todos los números a excepción de 0, da true\n",
        "#al convertirlos a booleanos\n",
        "bool(1210) or bool (-3465)"
      ],
      "metadata": {
        "colab": {
          "base_uri": "https://localhost:8080/"
        },
        "id": "oTWJWTuLU58u",
        "outputId": "ebce09ba-8e47-4d48-cc74-1e8e156e75b0"
      },
      "execution_count": null,
      "outputs": [
        {
          "output_type": "execute_result",
          "data": {
            "text/plain": [
              "True"
            ]
          },
          "metadata": {},
          "execution_count": 19
        }
      ]
    },
    {
      "cell_type": "code",
      "source": [
        "int('8' * 3)"
      ],
      "metadata": {
        "colab": {
          "base_uri": "https://localhost:8080/"
        },
        "id": "6SUMadmeVeEv",
        "outputId": "15c91561-2757-41af-b3b9-936e7fb48112"
      },
      "execution_count": null,
      "outputs": [
        {
          "output_type": "execute_result",
          "data": {
            "text/plain": [
              "888"
            ]
          },
          "metadata": {},
          "execution_count": 20
        }
      ]
    },
    {
      "cell_type": "code",
      "source": [
        "int('8' * 3) / 3"
      ],
      "metadata": {
        "colab": {
          "base_uri": "https://localhost:8080/"
        },
        "id": "Ef3bgTtRV5Ht",
        "outputId": "1a169447-5f6e-4ca3-9d6c-14165f84dccd"
      },
      "execution_count": null,
      "outputs": [
        {
          "output_type": "execute_result",
          "data": {
            "text/plain": [
              "296.0"
            ]
          },
          "metadata": {},
          "execution_count": 21
        }
      ]
    },
    {
      "cell_type": "code",
      "source": [
        "str(296.0)"
      ],
      "metadata": {
        "colab": {
          "base_uri": "https://localhost:8080/",
          "height": 35
        },
        "id": "mZJaZBVOWFpm",
        "outputId": "850014df-e451-42fd-9f08-0d94a921c33e"
      },
      "execution_count": null,
      "outputs": [
        {
          "output_type": "execute_result",
          "data": {
            "text/plain": [
              "'296.0'"
            ],
            "application/vnd.google.colaboratory.intrinsic+json": {
              "type": "string"
            }
          },
          "metadata": {},
          "execution_count": 22
        }
      ]
    },
    {
      "cell_type": "code",
      "source": [
        "#Todos los strings son listas, por ende, podemos\n",
        "#conocer la posición de cada uno de sus elementos\n",
        "#En python se empieza contando desde 0\n",
        "str(296.0)[3]"
      ],
      "metadata": {
        "colab": {
          "base_uri": "https://localhost:8080/",
          "height": 35
        },
        "id": "qBv4POsSWelO",
        "outputId": "6610cc9f-64a8-4e32-9eb7-fb54e8a0b019"
      },
      "execution_count": null,
      "outputs": [
        {
          "output_type": "execute_result",
          "data": {
            "text/plain": [
              "'.'"
            ],
            "application/vnd.google.colaboratory.intrinsic+json": {
              "type": "string"
            }
          },
          "metadata": {},
          "execution_count": 23
        }
      ]
    }
  ]
}