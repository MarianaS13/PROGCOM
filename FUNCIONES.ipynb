{
  "nbformat": 4,
  "nbformat_minor": 0,
  "metadata": {
    "colab": {
      "provenance": []
    },
    "kernelspec": {
      "name": "python3",
      "display_name": "Python 3"
    },
    "language_info": {
      "name": "python"
    }
  },
  "cells": [
    {
      "cell_type": "markdown",
      "source": [
        "#FUNCIONES\n",
        "Conjunto de instrucciones que permiten alcanzar ciertos objetivos\n",
        "1. Reutilizar codigo\n",
        "2. Simplificar el objetivo\n",
        "3. Facilitar la realización de pruebas\n",
        "\n",
        "Tipos: anonimas y funciones\n",
        "\n",
        "#Anónimas:\n",
        "No tienen nombre y se llaman de acuerdo a la variable asignada. Se emplea el identificador lamba (variable): operación.\n",
        "\n",
        "#Funciones:\n",
        "Necesitan de la palabra def (nombre_de_la_función):"
      ],
      "metadata": {
        "id": "cTkIyzwAPKU_"
      }
    },
    {
      "cell_type": "code",
      "execution_count": 1,
      "metadata": {
        "colab": {
          "base_uri": "https://localhost:8080/"
        },
        "id": "Omn07JzAO_X3",
        "outputId": "7579aacd-2a38-47f4-a3c2-d762097b0825"
      },
      "outputs": [
        {
          "output_type": "stream",
          "name": "stdout",
          "text": [
            "Ingrese un número:2\n",
            "Ingrese un número:3\n",
            "La suma de 2 + 3 = 5\n",
            "La resta de 2 - 3 = -1\n",
            "La multiplicación de 2 * 3 = 6\n",
            "La división de 2 / 3 = 0.6666666666666666\n"
          ]
        }
      ],
      "source": [
        "##PROGRAMA QUE PERMITA CALCULAR LA SUMA, RESTA, MULTIPLICACIÓN Y DIVISIÓN ENTRE DOS NÚMEROS\n",
        "\n",
        "#1.Pedir los dos números:\n",
        "x=int(input(\"Ingrese un número:\" ))\n",
        "y=int(input(\"Ingrese un número:\" ))\n",
        "c=x+y\n",
        "print(f\"La suma de {x} + {y} = {c}\")\n",
        "c=x-y\n",
        "print(f\"La resta de {x} - {y} = {c}\")\n",
        "c=x*y\n",
        "print(f\"La multiplicación de {x} * {y} = {c}\")\n",
        "c=x/y\n",
        "print(f\"La división de {x} / {y} = {c}\")"
      ]
    },
    {
      "cell_type": "code",
      "source": [
        "def pedir_numeros():\n",
        "  x=int(input(\"Ingrese un número:\" ))\n",
        "  y=int(input(\"Ingrese un número:\" ))\n",
        "  return x,y\n",
        "  # x y y son variables globales"
      ],
      "metadata": {
        "id": "Ujw1SsV6XzmM"
      },
      "execution_count": 2,
      "outputs": []
    },
    {
      "cell_type": "code",
      "source": [
        "a,b=pedir_numeros()\n",
        "print(a,b)\n",
        "# a y b son variables locales (las funciones casi siempre usan variables locales)"
      ],
      "metadata": {
        "colab": {
          "base_uri": "https://localhost:8080/"
        },
        "id": "5IKNS4juZOu8",
        "outputId": "20b9d11e-71f3-46ea-c9c4-9291eeb47269"
      },
      "execution_count": 4,
      "outputs": [
        {
          "output_type": "stream",
          "name": "stdout",
          "text": [
            "Ingrese un número:2\n",
            "Ingrese un número:3\n",
            "2 3\n"
          ]
        }
      ]
    },
    {
      "cell_type": "code",
      "source": [
        "def suma_V1(a,b): #donde a y b son los parametros que se van a emplear\n",
        "  return a+b"
      ],
      "metadata": {
        "id": "7ACLY-taYCyo"
      },
      "execution_count": 5,
      "outputs": []
    },
    {
      "cell_type": "code",
      "source": [
        "suma_V1(x,y)"
      ],
      "metadata": {
        "colab": {
          "base_uri": "https://localhost:8080/"
        },
        "id": "QvaKIKpBYTkt",
        "outputId": "753e9f86-84c5-454c-9186-795af95ea4d7"
      },
      "execution_count": 6,
      "outputs": [
        {
          "output_type": "execute_result",
          "data": {
            "text/plain": [
              "5"
            ]
          },
          "metadata": {},
          "execution_count": 6
        }
      ]
    },
    {
      "cell_type": "code",
      "source": [
        "suma=lambda a,b: a+b #función anónima"
      ],
      "metadata": {
        "id": "Cgkyi4UNYuK9"
      },
      "execution_count": 7,
      "outputs": []
    },
    {
      "cell_type": "code",
      "source": [
        "suma(a,b)"
      ],
      "metadata": {
        "colab": {
          "base_uri": "https://localhost:8080/"
        },
        "id": "tax5E2CMZjJH",
        "outputId": "741262d9-0795-4c6f-b522-8056758f8f5f"
      },
      "execution_count": 8,
      "outputs": [
        {
          "output_type": "execute_result",
          "data": {
            "text/plain": [
              "5"
            ]
          },
          "metadata": {},
          "execution_count": 8
        }
      ]
    },
    {
      "cell_type": "code",
      "source": [
        "suma(x,y)"
      ],
      "metadata": {
        "colab": {
          "base_uri": "https://localhost:8080/"
        },
        "id": "kgRe3KVyZmGP",
        "outputId": "ce7783a6-c403-4839-a4a8-648cf20608e0"
      },
      "execution_count": 9,
      "outputs": [
        {
          "output_type": "execute_result",
          "data": {
            "text/plain": [
              "5"
            ]
          },
          "metadata": {},
          "execution_count": 9
        }
      ]
    },
    {
      "cell_type": "markdown",
      "source": [
        "Ejemplo con funciones"
      ],
      "metadata": {
        "id": "gi1kQLlp0z4D"
      }
    },
    {
      "cell_type": "code",
      "source": [
        "def suma(x, y):\n",
        "    return x + y\n",
        "\n",
        "def resta(x, y):\n",
        "    return x - y\n",
        "\n",
        "def multiplicacion(x, y):\n",
        "    return x * y\n",
        "\n",
        "def division(x, y):\n",
        "    if y == 0:\n",
        "        return \"Error: No se puede dividir por cero\"\n",
        "    else:\n",
        "        return x / y\n",
        "\n",
        "def pedir_numeros():\n",
        "    num1 = float(input(\"Ingresa el primer número: \"))\n",
        "    num2 = float(input(\"Ingresa el segundo número: \"))\n",
        "    return num1, num2\n",
        "\n",
        "def menu():\n",
        "    print(\"\\n--- Menú de operaciones ---\")\n",
        "    print(\"1. Suma\")\n",
        "    print(\"2. Resta\")\n",
        "    print(\"3. Multiplicación\")\n",
        "    print(\"4. División\")\n",
        "    print(\"5. Salir\")\n",
        "\n",
        "def calculadora():\n",
        "    menu()\n",
        "    opcion = input(\"Elige una operación (1/2/3/4): \")\n",
        "\n",
        "    if opcion in ['1', '2', '3', '4']:\n",
        "        num1, num2 = pedir_numeros()\n",
        "\n",
        "        if opcion == '1':\n",
        "            print(f\"La suma de {num1} + {num2} = {suma(num1, num2)}\")\n",
        "        elif opcion == '2':\n",
        "            print(f\"La resta de {num1} - {num2} = {resta(num1, num2)}\")\n",
        "        elif opcion == '3':\n",
        "            print(f\"La multiplicación de {num1} * {num2} = {multiplicacion(num1, num2)}\")\n",
        "        elif opcion == '4':\n",
        "            resultado_division = division(num1, num2)\n",
        "            if resultado_division == \"Error: No se puede dividir por cero\":\n",
        "                print(resultado_division)\n",
        "            else:\n",
        "                print(f\"La división de {num1} / {num2} = {resultado_division}\")\n",
        "    else:\n",
        "        print(\"Opción inválida. El programa finalizará.\")\n",
        "\n",
        "calculadora()\n",
        "print(\"Programa finalizado.\")"
      ],
      "metadata": {
        "id": "2Mp6lXkg03JZ"
      },
      "execution_count": null,
      "outputs": []
    },
    {
      "cell_type": "code",
      "source": [
        "def operaciones(a,b,c):\n",
        "  match c:\n",
        "    case 1:return a+b\n",
        "    case 2: return a-b\n",
        "    case 3: return a*b\n",
        "    case 4: return a/b\n",
        "    case _: return \"Opción no valida\""
      ],
      "metadata": {
        "id": "e3dTK-g8aHm1"
      },
      "execution_count": 10,
      "outputs": []
    },
    {
      "cell_type": "code",
      "source": [
        "def menu():\n",
        "  print(\"Ingrese dos valores, junto con la operación a realizar. \\n1. Suma\\n.2. Resta\\n3. Multiplicación\\n4. División\")\n",
        "  a=int(input(\"Ingrese el primer valor: \"))\n",
        "  b=int(input(\"Ingrese el segundo valor: \"))\n",
        "  signo=int(input(\"Ingrese la operación \"))\n",
        "  return operaciones(a,b,signo)"
      ],
      "metadata": {
        "id": "nw66TWaCat-Y"
      },
      "execution_count": 11,
      "outputs": []
    },
    {
      "cell_type": "code",
      "source": [
        "menu()"
      ],
      "metadata": {
        "colab": {
          "base_uri": "https://localhost:8080/",
          "height": 174
        },
        "id": "JsojOLNJcDWJ",
        "outputId": "673b6ad5-c2a3-4fb8-913c-20f6a5b0a2fe"
      },
      "execution_count": 12,
      "outputs": [
        {
          "name": "stdout",
          "output_type": "stream",
          "text": [
            "Ingrese dos valores, junto con la operación a realizar. \n",
            "1. Suma\n",
            ".2. Resta\n",
            "3. Multiplicación\n",
            "4. División\n",
            "Ingrese el primer valor: 4\n",
            "Ingrese el segundo valor: 5\n",
            "Ingrese la operación 5\n"
          ]
        },
        {
          "output_type": "execute_result",
          "data": {
            "text/plain": [
              "'Opción no valida'"
            ],
            "application/vnd.google.colaboratory.intrinsic+json": {
              "type": "string"
            }
          },
          "metadata": {},
          "execution_count": 12
        }
      ]
    },
    {
      "cell_type": "markdown",
      "source": [
        "Ejemplo con funciones anonimas"
      ],
      "metadata": {
        "id": "Z1nRMgJU0-5j"
      }
    },
    {
      "cell_type": "code",
      "source": [
        "suma = lambda x, y: x + y\n",
        "resta = lambda x, y: x - y\n",
        "multiplicacion = lambda x, y: x * y\n",
        "division = lambda x, y: x / y if y != 0 else \"Error: División por cero\"\n",
        "\n",
        "pedir_numeros = lambda: (float(input(\"Ingresa el primer número: \")), float(input(\"Ingresa el segundo número: \")))\n",
        "\n",
        "menu = lambda: print(\"\\n--- Menú de operaciones ---\\n1. Suma\\n2. Resta\\n3. Multiplicación\\n4. División\\n5. Salir\")\n",
        "\n",
        "calculadora = lambda: (\n",
        "    menu(),\n",
        "    (lambda opcion:\n",
        "        (lambda num1, num2:\n",
        "            (print(f\"La suma de {num1} + {num2} = {suma(num1, num2)}\") if opcion == '1' else\n",
        "             print(f\"La resta de {num1} - {num2} = {resta(num1, num2)}\") if opcion == '2' else\n",
        "             print(f\"La multiplicación de {num1} * {num2} = {multiplicacion(num1, num2)}\") if opcion == '3' else\n",
        "             print(f\"La división de {num1} / {num2} = {division(num1, num2)}\"))\n",
        "        )(pedir_numeros()) if opcion in ['1', '2', '3', '4'] else\n",
        "        (print(\"Saliendo del programa. ¡Adiós!\") if opcion == '5' else print(\"Opción inválida.\"))\n",
        "    )(input(\"Elige una operación (1/2/3/4/5): \"))\n",
        ")\n",
        "\n",
        "while True:\n",
        "    calculadora()\n",
        "    if input(\"¿Deseas realizar otra operación? (s/n): \").lower() != 's':\n",
        "        break\n"
      ],
      "metadata": {
        "id": "U3goPc831FzC"
      },
      "execution_count": null,
      "outputs": []
    }
  ]
}