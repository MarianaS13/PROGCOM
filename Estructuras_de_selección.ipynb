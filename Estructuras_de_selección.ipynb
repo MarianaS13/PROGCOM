{
  "nbformat": 4,
  "nbformat_minor": 0,
  "metadata": {
    "colab": {
      "provenance": []
    },
    "kernelspec": {
      "name": "python3",
      "display_name": "Python 3"
    },
    "language_info": {
      "name": "python"
    }
  },
  "cells": [
    {
      "cell_type": "markdown",
      "source": [
        "#Estructuras de selección\n",
        "1.   Si - sino: if - else\n",
        "2. Operador terniario\n",
        "3. Estructura switch\n",
        "  - if /elif /else\n",
        "  - match - case"
      ],
      "metadata": {
        "id": "HuBsGk6zEiQC"
      }
    },
    {
      "cell_type": "code",
      "execution_count": 16,
      "metadata": {
        "colab": {
          "base_uri": "https://localhost:8080/"
        },
        "id": "6EMi2S1qEf1Z",
        "outputId": "72ee7f99-2da3-4aa4-f0e4-2ca494dbbb56"
      },
      "outputs": [
        {
          "output_type": "stream",
          "name": "stdout",
          "text": [
            "Deseas aprender a programar?Si\n",
            "Empieza a hacer ejercicios\n"
          ]
        }
      ],
      "source": [
        "#Las dos variables no eran iguales (Respuesta - respuesta)\n",
        "#Las variables se escriben en minuscula\n",
        "# if y else van en minuscula\n",
        "respuesta=input(\"Deseas aprender a programar?\").capitalize()\n",
        "if respuesta==\"Si\":\n",
        "  #Estamos dentro del si\n",
        "  print(\"Empieza a hacer ejercicios\")\n",
        "else:\n",
        "  #estamos dentro del sino\n",
        "  print(\"Reconsidéralo\")"
      ]
    },
    {
      "cell_type": "markdown",
      "source": [
        "#Ejemplo\n",
        "1. Dividir dos números siempre y cuando el denominador no sea 0\n",
        "2. Definir si un número es mayor que 5 y menor a 15.\n",
        "3. Definir si un número es mayor que n o menor e igual que m.\n",
        "4. Definir si una letra es m o no\n",
        "5. Verificar si un número es par o impar.\n",
        "6. Decrementa en 1 una unidad, si x es mayor que 5"
      ],
      "metadata": {
        "id": "915dWfNEHU8I"
      }
    },
    {
      "cell_type": "code",
      "source": [
        "#Ejercicio 3: Definir si un número es mayor que n y menor o igual que m\n",
        "n=int(input(\"Ingrese un número: \"))\n",
        "m=int(input(\"Ingrese otro número: \"))"
      ],
      "metadata": {
        "colab": {
          "base_uri": "https://localhost:8080/"
        },
        "id": "HZY36YA6HltX",
        "outputId": "ccfecc51-3955-4fa5-eb32-a36dc172a6cb"
      },
      "execution_count": 5,
      "outputs": [
        {
          "name": "stdout",
          "output_type": "stream",
          "text": [
            "Ingrese un número: 5\n",
            "Ingrese otro número: 8\n"
          ]
        }
      ]
    },
    {
      "cell_type": "code",
      "source": [
        "x=int(input(\"Ingrese otro número\"))\n",
        "if x>n and x<=m:\n",
        "  print(f\"El número {x} es mayor que {n} y menor o igual que {m}\")\n",
        "else:\n",
        "  print(f\"El número {x} no es mayor que {n} y menor o igual que {m}\")"
      ],
      "metadata": {
        "id": "6HXTbloOVORX"
      },
      "execution_count": null,
      "outputs": []
    },
    {
      "cell_type": "code",
      "source": [
        "x=int(input(\"ingrese otro numero: \"))\n",
        "if x>n and x<=m:\n",
        "  print(f\"El numero {x} es mayor que {n} y menor o igual que {m}\")\n",
        "elif x>=n and x>m:\n",
        "  print(f\"El numero {x} es mayor que {n} pero no es menor o igual que {m}\")\n",
        "elif x<n and x<=m:\n",
        "  print(f\"El numero {x} es menor que {n} pero no es menor o igual que {m}\")"
      ],
      "metadata": {
        "colab": {
          "base_uri": "https://localhost:8080/"
        },
        "id": "AtiE-VwEOG9L",
        "outputId": "a93e8546-16fc-41af-ec98-df50da02da0c"
      },
      "execution_count": 7,
      "outputs": [
        {
          "output_type": "stream",
          "name": "stdout",
          "text": [
            "ingrese otro numero: 8\n",
            "El numero 8 es mayor que 5 y menor o igual que 8\n"
          ]
        }
      ]
    },
    {
      "cell_type": "code",
      "source": [
        "x=int(input(\"Ingrese otro número\"))\n",
        "if x>n and m<=m:\n",
        "  print(f\"El número {x} es mayor que {n} y menor o igual que {m}\")\n",
        "else:\n",
        "  if x>n: print(f\"El número {x} es mayor que {n} pero no es menor o igual que {m}\")\n",
        "  else: print(f\"El número {x} no es mayor que {n} pero es menor o igual que {m}\")"
      ],
      "metadata": {
        "id": "3ugf-97AOMqy"
      },
      "execution_count": null,
      "outputs": []
    },
    {
      "cell_type": "code",
      "source": [
        "#4. Definir si una letra es m o no. Modo novato\n",
        "letra=input(\"Ingrese una letra: \")\n",
        "if letra==\"m\" or letra==\"M\":\n",
        "  print(\"Ingresaste una m\")\n",
        "else: print(\"No ingresaste una m\")"
      ],
      "metadata": {
        "colab": {
          "base_uri": "https://localhost:8080/"
        },
        "id": "K7C3B587PH5z",
        "outputId": "f30348f9-6947-4c9d-ffa6-c076be854254"
      },
      "execution_count": 11,
      "outputs": [
        {
          "output_type": "stream",
          "name": "stdout",
          "text": [
            "Ingrese una letra: S\n",
            "No ingresaste una m\n"
          ]
        }
      ]
    },
    {
      "cell_type": "markdown",
      "source": [
        "#Operador terniario\n",
        "1. Acción si se cumple la condición\n",
        "2. La condición\n",
        "3. else\n",
        "4. Acción si no se cumple la condición"
      ],
      "metadata": {
        "id": "Ea2Pf_zOXHq8"
      }
    },
    {
      "cell_type": "code",
      "source": [
        "b=\"Ingresaste una m\" if letra==\"m\" or letra==\"M\" else print(\"No ingresaste una m\")"
      ],
      "metadata": {
        "id": "fUKMmalGW10M"
      },
      "execution_count": null,
      "outputs": []
    },
    {
      "cell_type": "code",
      "source": [
        "#4. Definir si una letra es m o no. Modo profesional\n",
        "letra=input(\"Ingrese una letra: \").lower()\n",
        "if letra==\"m\":\n",
        "  print(\"Ingresaste una m\")\n",
        "else: print(\"No ingresaste una m\")"
      ],
      "metadata": {
        "colab": {
          "base_uri": "https://localhost:8080/"
        },
        "id": "8RpYWv3YQaaR",
        "outputId": "6a11db99-1fe0-499a-ec8c-08b1961a35d7"
      },
      "execution_count": 14,
      "outputs": [
        {
          "output_type": "stream",
          "name": "stdout",
          "text": [
            "Ingrese una letra: s\n",
            "No ingresaste una m\n"
          ]
        }
      ]
    },
    {
      "cell_type": "code",
      "source": [
        "b=\"ingresaste una m\" if letra==\"m\" else \"No ingresaste una m\""
      ],
      "metadata": {
        "id": "nttrLb3fYdKk"
      },
      "execution_count": null,
      "outputs": []
    },
    {
      "cell_type": "code",
      "source": [
        "#Restar en 1 una variable si es menor que 5\n",
        "numero=int(input(\"Ingrese un número: \"))\n",
        "if numero<5: print(f\"El nuevo número es {numero-1}\")\n",
        "else: print(\"Como el número no es menor que 5, se mantiene\")"
      ],
      "metadata": {
        "colab": {
          "base_uri": "https://localhost:8080/"
        },
        "id": "neYmOxrSQlmI",
        "outputId": "d5767261-8937-43ba-874b-2213b6220451"
      },
      "execution_count": 12,
      "outputs": [
        {
          "output_type": "stream",
          "name": "stdout",
          "text": [
            "Ingrese un número: 10\n",
            "Como el número no es menor que 5, se mantiene\n"
          ]
        }
      ]
    },
    {
      "cell_type": "code",
      "source": [
        "b=numero-1 if numero<5 else numero"
      ],
      "metadata": {
        "id": "QXHuEWJlSB7_"
      },
      "execution_count": null,
      "outputs": []
    },
    {
      "cell_type": "code",
      "source": [
        "#1\n",
        "numerador = float(input(\"Ingrese el numerador: \"))\n",
        "denominador = float(input(\"Ingrese el denominador: \"))\n",
        "if denominador != 0:\n",
        "  resultado = numerador/denominador\n",
        "  print(f\"El resultado de la division es: {resultado}\")\n",
        "else:\n",
        "  print(\"Error: No se puede dividir por 0\")"
      ],
      "metadata": {
        "colab": {
          "base_uri": "https://localhost:8080/"
        },
        "id": "2WKWRvCdZBgi",
        "outputId": "58282414-6e89-4fed-962e-e572e2fa0294"
      },
      "execution_count": 17,
      "outputs": [
        {
          "output_type": "stream",
          "name": "stdout",
          "text": [
            "Ingrese el numerador: 5\n",
            "Ingrese el denominador: 2\n",
            "El resultado de la division es: 2.5\n"
          ]
        }
      ]
    },
    {
      "cell_type": "code",
      "source": [
        "b=f\"El resultado de la division es: {resultado}\" if denominador != 0 else print(\"Error: No se puede dividir por 0\")"
      ],
      "metadata": {
        "id": "cAUw7qj5Z6do"
      },
      "execution_count": 19,
      "outputs": []
    },
    {
      "cell_type": "code",
      "source": [
        "#2\n",
        "numero = float(input(\"Ingrese un número: \"))\n",
        "if 5 < numero < 15:\n",
        "    print(\"El número está en el rango de 5 a 15.\")\n",
        "else:\n",
        "    print(\"El número no está en el rango de 5 a 15.\")\n"
      ],
      "metadata": {
        "colab": {
          "base_uri": "https://localhost:8080/"
        },
        "id": "vrCubansaLlh",
        "outputId": "12a9cb79-de02-41e0-afbd-2b053a18ad36"
      },
      "execution_count": 20,
      "outputs": [
        {
          "output_type": "stream",
          "name": "stdout",
          "text": [
            "Ingrese un número: 10\n",
            "El número está en el rango de 5 a 15.\n"
          ]
        }
      ]
    },
    {
      "cell_type": "code",
      "source": [
        "b=\"El número está en el rango de 5 a 15.\" if 5 < numero < 15 else \"El número no está en el rango de 5 a 15.\""
      ],
      "metadata": {
        "id": "-70oPC2Rap9p"
      },
      "execution_count": null,
      "outputs": []
    },
    {
      "cell_type": "code",
      "source": [
        "#5\n",
        "numero = int(input(\"Ingrese un número: \"))\n",
        "if numero % 2 == 0:\n",
        "    print(\"El número es par.\")\n",
        "else:\n",
        "    print(\"El número es impar.\")"
      ],
      "metadata": {
        "colab": {
          "base_uri": "https://localhost:8080/"
        },
        "id": "mb-BCSMda4i5",
        "outputId": "e5cf8905-672b-4a73-b73d-08e8f2b56c7e"
      },
      "execution_count": 23,
      "outputs": [
        {
          "output_type": "stream",
          "name": "stdout",
          "text": [
            "Ingrese un número: 26\n",
            "El número es par.\n"
          ]
        }
      ]
    },
    {
      "cell_type": "code",
      "source": [
        "b=\"El número es par.\" if numero % 2 == 0 else \"El número es impar.\""
      ],
      "metadata": {
        "id": "LBMs6gRta-Uw"
      },
      "execution_count": null,
      "outputs": []
    }
  ]
}