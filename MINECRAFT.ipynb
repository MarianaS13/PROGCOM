{
  "nbformat": 4,
  "nbformat_minor": 0,
  "metadata": {
    "colab": {
      "provenance": []
    },
    "kernelspec": {
      "name": "python3",
      "display_name": "Python 3"
    },
    "language_info": {
      "name": "python"
    }
  },
  "cells": [
    {
      "cell_type": "code",
      "source": [
        "# Clase base\n",
        "class Entidad:\n",
        "    def atacar(self):\n",
        "        pass  # Método base que será sobrescrito por las subclases\n",
        "\n",
        "# Subclase Zombi\n",
        "class Zombi(Entidad):\n",
        "    def atacar(self):\n",
        "        return \"El zombi ataca mordiendo.\"\n",
        "\n",
        "# Subclase Esqueleto\n",
        "class Esqueleto(Entidad):\n",
        "    def atacar(self):\n",
        "        return \"El esqueleto ataca disparando flechas.\"\n",
        "\n",
        "# Subclase Humano\n",
        "class Humano(Entidad):\n",
        "    def __init__(self, tiene_arma):\n",
        "        self.tiene_arma = tiene_arma  # True si tiene un arma, False si no\n",
        "\n",
        "    def atacar(self):\n",
        "        if self.tiene_arma:\n",
        "            return \"El humano ataca con un arma.\"\n",
        "        else:\n",
        "            return \"El humano ataca con las manos.\"\n",
        "\n",
        "# Función que demuestra el polimorfismo\n",
        "def entidad_ataca(entidad):\n",
        "    print(entidad.atacar())\n",
        "\n",
        "# Crear instancias de Zombi, Esqueleto y Humano\n",
        "zombi = Zombi()\n",
        "esqueleto = Esqueleto()\n",
        "humano_con_arma = Humano(tiene_arma=True)  # El humano tiene un arma\n",
        "humano_sin_arma = Humano(tiene_arma=False) # El humano no tiene un arma\n",
        "\n",
        "# Llamar la función polimórfica\n",
        "entidad_ataca(zombi)               # El zombi ataca mordiendo.\n",
        "entidad_ataca(esqueleto)           # El esqueleto ataca disparando flechas.\n",
        "entidad_ataca(humano_con_arma)     # El humano ataca con un arma.\n",
        "entidad_ataca(humano_sin_arma)     # El humano ataca con las manos.\n"
      ],
      "metadata": {
        "colab": {
          "base_uri": "https://localhost:8080/"
        },
        "id": "2jFJKSeroUNP",
        "outputId": "feb8f362-7547-4dfb-bdd8-27fe3fa8c091"
      },
      "execution_count": 5,
      "outputs": [
        {
          "output_type": "stream",
          "name": "stdout",
          "text": [
            "El zombi ataca mordiendo.\n",
            "El esqueleto ataca disparando flechas.\n",
            "El humano ataca con un arma.\n",
            "El humano ataca con las manos.\n"
          ]
        }
      ]
    }
  ]
}