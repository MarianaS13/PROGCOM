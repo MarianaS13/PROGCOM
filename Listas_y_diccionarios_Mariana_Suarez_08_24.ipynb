{
  "nbformat": 4,
  "nbformat_minor": 0,
  "metadata": {
    "colab": {
      "provenance": []
    },
    "kernelspec": {
      "name": "python3",
      "display_name": "Python 3"
    },
    "language_info": {
      "name": "python"
    }
  },
  "cells": [
    {
      "cell_type": "markdown",
      "source": [
        "#Listas\n",
        "Una lista en Python es una colección ordenada y mutable de elementos, que pueden ser de diferentes tipos (números, cadenas, etc.). Cada elemento tiene una posición específica que empieza desde 0, y permite agregar, eliminar o modificar su contenido."
      ],
      "metadata": {
        "id": "V9yPhhvIkAuY"
      }
    },
    {
      "cell_type": "code",
      "source": [
        "#extend:Añade los elementos de una lista o cualquier iterable al final de la lista actual, descompone el iterable y añade cada elemento de forma individual.\n",
        "\n",
        "lista1 = ['2006,02,13','1980,06,09']\n",
        "lista2 = ['Mariana','Suarez','Graterón','Yaneth','Graterón','Ortiz']\n",
        "\n",
        "lista1.extend(lista2)\n",
        "\n",
        "print(lista1)"
      ],
      "metadata": {
        "colab": {
          "base_uri": "https://localhost:8080/"
        },
        "id": "LHNc1pxCm2YA",
        "outputId": "c6168693-3fa0-4a36-d242-3178141a9957"
      },
      "execution_count": 7,
      "outputs": [
        {
          "output_type": "stream",
          "name": "stdout",
          "text": [
            "['2006,02,13', '1980,06,09', 'Mariana', 'Suarez', 'Graterón', 'Yaneth', 'Graterón', 'Ortiz']\n"
          ]
        }
      ]
    },
    {
      "cell_type": "code",
      "source": [
        "#remove: Elimina la primera aparición de un elemento.\n",
        "\n",
        "lista1 = ['2006', '02', '13', '1980', '06', '09']\n",
        "lista1.remove('13')\n",
        "print(lista1)\n"
      ],
      "metadata": {
        "colab": {
          "base_uri": "https://localhost:8080/"
        },
        "id": "KvNjbnQ7pCj7",
        "outputId": "7c289aaa-1b29-44f0-caef-8ac67a08169d"
      },
      "execution_count": 10,
      "outputs": [
        {
          "output_type": "stream",
          "name": "stdout",
          "text": [
            "['2006', '02', '1980', '06', '09']\n"
          ]
        }
      ]
    },
    {
      "cell_type": "code",
      "source": [
        "#insert: Inserta un elemento en una posición específica.\n",
        "\n",
        "lista1 = ['2006', '02', '13', '1980', '06', '09']\n",
        "lista1.insert(2, '06')\n",
        "print(lista1)\n"
      ],
      "metadata": {
        "colab": {
          "base_uri": "https://localhost:8080/"
        },
        "id": "L3NlmcAeonZ_",
        "outputId": "29e7891d-c998-43dd-b844-7883d4e68c3a"
      },
      "execution_count": 13,
      "outputs": [
        {
          "output_type": "stream",
          "name": "stdout",
          "text": [
            "['2006', '02', '06', '13', '1980', '06', '09']\n"
          ]
        }
      ]
    },
    {
      "cell_type": "code",
      "source": [
        "#append: Añade un elemento al final de la lista.\n",
        "\n",
        "lista1 = ['2006', '02', '13', '1980', '06', '09']\n",
        "lista1.append('2024')\n",
        "print(lista1)\n"
      ],
      "metadata": {
        "colab": {
          "base_uri": "https://localhost:8080/"
        },
        "id": "m9mAf_D2zUcN",
        "outputId": "f709913b-04da-420f-af42-fd7f90aa50ef"
      },
      "execution_count": 14,
      "outputs": [
        {
          "output_type": "stream",
          "name": "stdout",
          "text": [
            "['2006', '02', '13', '1980', '06', '09', '2024']\n"
          ]
        }
      ]
    },
    {
      "cell_type": "code",
      "source": [
        "#pop: Elimina y retorna el elemento en una posición específica (por defecto el último).\n",
        "\n",
        "lista1 = ['2006', '02', '13', '1980', '06', '09']\n",
        "elemento = lista1.pop()\n",
        "print(elemento)\n",
        "print(lista1)\n"
      ],
      "metadata": {
        "colab": {
          "base_uri": "https://localhost:8080/"
        },
        "id": "OhBzyrKBo_U9",
        "outputId": "4e3f9b95-5456-44de-e678-0018c25afeda"
      },
      "execution_count": 15,
      "outputs": [
        {
          "output_type": "stream",
          "name": "stdout",
          "text": [
            "09\n",
            "['2006', '02', '13', '1980', '06']\n"
          ]
        }
      ]
    },
    {
      "cell_type": "code",
      "source": [
        "#clear: Elimina todos los elementos de la lista.\n",
        "\n",
        "lista1 = ['2006', '02', '13', '1980', '06', '09']\n",
        "lista1.clear()\n",
        "print(lista1)\n"
      ],
      "metadata": {
        "colab": {
          "base_uri": "https://localhost:8080/"
        },
        "id": "gV9retKF0xoq",
        "outputId": "fc588754-d6ae-42ad-c32a-c82148e3af14"
      },
      "execution_count": 16,
      "outputs": [
        {
          "output_type": "stream",
          "name": "stdout",
          "text": [
            "[]\n"
          ]
        }
      ]
    },
    {
      "cell_type": "code",
      "source": [
        "#index: Retorna el índice de la primera aparición de un elemento.\n",
        "\n",
        "lista1 = ['2006', '02', '13', '1980', '06', '09']\n",
        "if '3' in lista1:\n",
        "    indice = lista1.index('3')\n",
        "    print(indice)\n",
        "else:\n",
        "    print(\"El valor '3' no está en la lista.\")\n"
      ],
      "metadata": {
        "colab": {
          "base_uri": "https://localhost:8080/"
        },
        "id": "h7Ky4q-M1mNC",
        "outputId": "ed493822-8b9b-4f93-d49b-a030ddfe5db3"
      },
      "execution_count": 19,
      "outputs": [
        {
          "output_type": "stream",
          "name": "stdout",
          "text": [
            "El valor '3' no está en la lista.\n"
          ]
        }
      ]
    },
    {
      "cell_type": "code",
      "source": [
        "#count: Retorna el número de veces que un elemento aparece en la lista.\n",
        "\n",
        "lista1 = ['2006', '02', '13', '1980', '06', '09']\n",
        "veces = lista1.count('02')\n",
        "print(veces)\n"
      ],
      "metadata": {
        "colab": {
          "base_uri": "https://localhost:8080/"
        },
        "id": "sA3E8STN2xAa",
        "outputId": "aa94c093-be1d-4795-ae40-041c676a837a"
      },
      "execution_count": 20,
      "outputs": [
        {
          "output_type": "stream",
          "name": "stdout",
          "text": [
            "1\n"
          ]
        }
      ]
    },
    {
      "cell_type": "code",
      "source": [
        "#sort: Ordena los elementos de la lista en orden ascendente (por defecto).\n",
        "\n",
        "lista1 = ['2006', '02', '13', '1980', '06', '09']\n",
        "lista1.sort()\n",
        "print(lista1)\n"
      ],
      "metadata": {
        "colab": {
          "base_uri": "https://localhost:8080/"
        },
        "id": "hjUe-ndW3qe4",
        "outputId": "cd39bd0e-de7a-49b4-d1a9-f4cf3e9ac9fd"
      },
      "execution_count": 21,
      "outputs": [
        {
          "output_type": "stream",
          "name": "stdout",
          "text": [
            "['02', '06', '09', '13', '1980', '2006']\n"
          ]
        }
      ]
    },
    {
      "cell_type": "code",
      "source": [
        "#reverse: Invierte el orden de los elementos de la lista.\n",
        "\n",
        "lista = ['2006', '02', '13', '1980', '06', '09']\n",
        "lista.reverse()\n",
        "print(lista)\n"
      ],
      "metadata": {
        "colab": {
          "base_uri": "https://localhost:8080/"
        },
        "id": "MEY1RGR438fo",
        "outputId": "cd9b5865-f9e1-4cb6-c5d5-efe42b4b1365"
      },
      "execution_count": 22,
      "outputs": [
        {
          "output_type": "stream",
          "name": "stdout",
          "text": [
            "['09', '06', '1980', '13', '02', '2006']\n"
          ]
        }
      ]
    },
    {
      "cell_type": "markdown",
      "source": [
        "#Diccionarios\n",
        "Un diccionario en Python es una estructura de datos que almacena pares de clave-valor, donde cada clave es única y se utiliza para acceder a su valor asociado. Se define usando llaves {} y permite una búsqueda eficiente de valores mediante sus claves."
      ],
      "metadata": {
        "id": "nnlN5T4H4P1A"
      }
    },
    {
      "cell_type": "code",
      "source": [
        "datos = {\n",
        "    'año_nacimiento_1': '2006',\n",
        "    'mes_nacimiento_1': '02',\n",
        "    'dia_nacimiento_1': '13',\n",
        "    'año_nacimiento_2': '1980',\n",
        "    'mes_nacimiento_2': '06',\n",
        "    'dia_nacimiento_2': '09'\n",
        "}\n",
        "\n",
        "#dict.get:Este método devuelve el valor de una clave. Si la clave no existe, devuelve un valor por defecto (opcional).\n",
        "\n",
        "valor = datos.get('año_nacimiento_1')\n",
        "print(valor)\n",
        "\n",
        "valor_inexistente = datos.get('año_nacimiento_3', 'No existe')\n",
        "print(valor_inexistente)\n"
      ],
      "metadata": {
        "colab": {
          "base_uri": "https://localhost:8080/"
        },
        "id": "S5Yi7EQq7IpT",
        "outputId": "0a8e7d9d-5cff-4099-f18b-b5c7cfab34db"
      },
      "execution_count": 25,
      "outputs": [
        {
          "output_type": "stream",
          "name": "stdout",
          "text": [
            "2006\n",
            "No existe\n"
          ]
        }
      ]
    },
    {
      "cell_type": "code",
      "source": [
        "datos = {\n",
        "    'año_nacimiento_1': '2006',\n",
        "    'mes_nacimiento_1': '02',\n",
        "    'dia_nacimiento_1': '13',\n",
        "    'año_nacimiento_2': '1980',\n",
        "    'mes_nacimiento_2': '06',\n",
        "    'dia_nacimiento_2': '09'\n",
        "}\n",
        "\n",
        "#dict.keys:Devuelve una vista de todas las claves del diccionario.\n",
        "\n",
        "claves = datos.keys()\n",
        "print(claves)"
      ],
      "metadata": {
        "colab": {
          "base_uri": "https://localhost:8080/"
        },
        "id": "Qnplxeyf7nlI",
        "outputId": "5e852838-86f6-428b-8c2d-da622e678b45"
      },
      "execution_count": 26,
      "outputs": [
        {
          "output_type": "stream",
          "name": "stdout",
          "text": [
            "dict_keys(['año_nacimiento_1', 'mes_nacimiento_1', 'dia_nacimiento_1', 'año_nacimiento_2', 'mes_nacimiento_2', 'dia_nacimiento_2'])\n"
          ]
        }
      ]
    },
    {
      "cell_type": "code",
      "source": [
        "datos = {\n",
        "    'año_nacimiento_1': '2006',\n",
        "    'mes_nacimiento_1': '02',\n",
        "    'dia_nacimiento_1': '13',\n",
        "    'año_nacimiento_2': '1980',\n",
        "    'mes_nacimiento_2': '06',\n",
        "    'dia_nacimiento_2': '09'\n",
        "}\n",
        "\n",
        "#dict.values:Devuelve una vista de todos los valores del diccionario.\n",
        "\n",
        "valores = datos.values()\n",
        "print(valores)"
      ],
      "metadata": {
        "colab": {
          "base_uri": "https://localhost:8080/"
        },
        "id": "EZYwOuoh7vzF",
        "outputId": "fd094399-840b-46d5-cf98-7fddba389898"
      },
      "execution_count": 27,
      "outputs": [
        {
          "output_type": "stream",
          "name": "stdout",
          "text": [
            "dict_values(['2006', '02', '13', '1980', '06', '09'])\n"
          ]
        }
      ]
    },
    {
      "cell_type": "code",
      "source": [
        "datos = {\n",
        "    'año_nacimiento_1': '2006',\n",
        "    'mes_nacimiento_1': '02',\n",
        "    'dia_nacimiento_1': '13',\n",
        "    'año_nacimiento_2': '1980',\n",
        "    'mes_nacimiento_2': '06',\n",
        "    'dia_nacimiento_2': '09'\n",
        "}\n",
        "\n",
        "#dict.items:Devuelve una vista de los pares clave-valor del diccionario como tuplas.\n",
        "\n",
        "elementos = datos.items()\n",
        "print(elementos)\n"
      ],
      "metadata": {
        "id": "Zj0KSW268Bui"
      },
      "execution_count": null,
      "outputs": []
    },
    {
      "cell_type": "code",
      "source": [
        "datos = {\n",
        "    'año_nacimiento_1': '2006',\n",
        "    'mes_nacimiento_1': '02',\n",
        "    'dia_nacimiento_1': '13',\n",
        "    'año_nacimiento_2': '1980',\n",
        "    'mes_nacimiento_2': '06',\n",
        "    'dia_nacimiento_2': '09'\n",
        "}\n",
        "\n",
        "#dict.update:Actualiza el diccionario con los elementos de otro diccionario o pares clave-valor.\n",
        "\n",
        "datos.update({'dia_nacimiento_1': '14'})\n",
        "print(datos['dia_nacimiento_1'])\n"
      ],
      "metadata": {
        "id": "JML64iTt8Mw_"
      },
      "execution_count": null,
      "outputs": []
    },
    {
      "cell_type": "code",
      "source": [
        "datos = {\n",
        "    'año_nacimiento_1': '2006',\n",
        "    'mes_nacimiento_1': '02',\n",
        "    'dia_nacimiento_1': '13',\n",
        "    'año_nacimiento_2': '1980',\n",
        "    'mes_nacimiento_2': '06',\n",
        "    'dia_nacimiento_2': '09'\n",
        "}\n",
        "\n",
        "#dict.pop:Elimina un elemento del diccionario y devuelve su valor. Si la clave no existe, puedes proporcionar un valor por defecto.\n",
        "\n",
        "valor_eliminado = datos.pop('mes_nacimiento_2')\n",
        "print(valor_eliminado)\n",
        "print(datos)\n"
      ],
      "metadata": {
        "id": "VRe5tjWH834v"
      },
      "execution_count": null,
      "outputs": []
    },
    {
      "cell_type": "code",
      "source": [
        "datos = {\n",
        "    'año_nacimiento_1': '2006',\n",
        "    'mes_nacimiento_1': '02',\n",
        "    'dia_nacimiento_1': '13',\n",
        "    'año_nacimiento_2': '1980',\n",
        "    'mes_nacimiento_2': '06',\n",
        "    'dia_nacimiento_2': '09'\n",
        "}\n",
        "\n",
        "#dict.clear:Elimina todos los elementos del diccionario.\n",
        "\n",
        "datos_vacios = datos.copy()\n",
        "datos_vacios.clear()\n",
        "print(datos_vacios)\n"
      ],
      "metadata": {
        "colab": {
          "base_uri": "https://localhost:8080/"
        },
        "id": "JmBQt4X295nA",
        "outputId": "b0cd4c7a-e3f6-4db0-96c2-885dedb4256a"
      },
      "execution_count": 28,
      "outputs": [
        {
          "output_type": "stream",
          "name": "stdout",
          "text": [
            "{}\n"
          ]
        }
      ]
    },
    {
      "cell_type": "code",
      "source": [
        "datos = {\n",
        "    'año_nacimiento_1': '2006',\n",
        "    'mes_nacimiento_1': '02',\n",
        "    'dia_nacimiento_1': '13',\n",
        "    'año_nacimiento_2': '1980',\n",
        "    'mes_nacimiento_2': '06',\n",
        "    'dia_nacimiento_2': '09'\n",
        "}\n",
        "\n",
        "\n",
        "#dict.copy:Devuelve una copia superficial del diccionario.\n",
        "\n",
        "datos_copia = datos.copy()\n",
        "print(datos_copia)\n"
      ],
      "metadata": {
        "colab": {
          "base_uri": "https://localhost:8080/"
        },
        "id": "soYnUFW8_vK0",
        "outputId": "7e01c1ed-bb63-4291-be67-1827748d387a"
      },
      "execution_count": 29,
      "outputs": [
        {
          "output_type": "stream",
          "name": "stdout",
          "text": [
            "{'año_nacimiento_1': '2006', 'mes_nacimiento_1': '02', 'dia_nacimiento_1': '13', 'año_nacimiento_2': '1980', 'mes_nacimiento_2': '06', 'dia_nacimiento_2': '09'}\n"
          ]
        }
      ]
    },
    {
      "cell_type": "code",
      "source": [
        "datos = {\n",
        "    'año_nacimiento_1': '2006',\n",
        "    'mes_nacimiento_1': '02',\n",
        "    'dia_nacimiento_1': '13',\n",
        "    'año_nacimiento_2': '1980',\n",
        "    'mes_nacimiento_2': '06',\n",
        "    'dia_nacimiento_2': '09'\n",
        "}\n",
        "\n",
        "#dict.setdefault:Devuelve el valor de una clave si existe; de lo contrario, inserta la clave con un valor por defecto.\n",
        "\n",
        "mes = datos.setdefault('mes_nacimiento_3', '08')\n",
        "print(datos)\n"
      ],
      "metadata": {
        "colab": {
          "base_uri": "https://localhost:8080/"
        },
        "id": "ZIgx33yl_9M8",
        "outputId": "9cd49756-b02b-4c01-afda-53352a3c1b01"
      },
      "execution_count": 31,
      "outputs": [
        {
          "output_type": "stream",
          "name": "stdout",
          "text": [
            "{'año_nacimiento_1': '2006', 'mes_nacimiento_1': '02', 'dia_nacimiento_1': '13', 'año_nacimiento_2': '1980', 'mes_nacimiento_2': '06', 'dia_nacimiento_2': '09', 'mes_nacimiento_3': '08'}\n"
          ]
        }
      ]
    },
    {
      "cell_type": "code",
      "source": [
        "datos = {\n",
        "    'año_nacimiento_1': '2006',\n",
        "    'mes_nacimiento_1': '02',\n",
        "    'dia_nacimiento_1': '13',\n",
        "    'año_nacimiento_2': '1980',\n",
        "    'mes_nacimiento_2': '06',\n",
        "    'dia_nacimiento_2': '09'\n",
        "}\n",
        "\n",
        "#dict.fromkeys:Crea un nuevo diccionario con las claves dadas y un valor por defecto (opcional).\n",
        "\n",
        "nuevas_claves = ['clave_1', 'clave_2', 'clave_3']\n",
        "nuevo_diccionario = dict.fromkeys(nuevas_claves, 'valor_por_defecto')\n",
        "print(nuevo_diccionario)\n"
      ],
      "metadata": {
        "colab": {
          "base_uri": "https://localhost:8080/"
        },
        "id": "2pXLW0DtASrC",
        "outputId": "bca216eb-047c-47a2-a983-0739745653c0"
      },
      "execution_count": 32,
      "outputs": [
        {
          "output_type": "stream",
          "name": "stdout",
          "text": [
            "{'clave_1': 'valor_por_defecto', 'clave_2': 'valor_por_defecto', 'clave_3': 'valor_por_defecto'}\n"
          ]
        }
      ]
    }
  ]
}