{
  "nbformat": 4,
  "nbformat_minor": 0,
  "metadata": {
    "colab": {
      "provenance": []
    },
    "kernelspec": {
      "name": "python3",
      "display_name": "Python 3"
    },
    "language_info": {
      "name": "python"
    }
  },
  "cells": [
    {
      "cell_type": "markdown",
      "source": [
        "#Encapsulamiento\n",
        "\n"
      ],
      "metadata": {
        "id": "Md52h4GvdPQe"
      }
    },
    {
      "cell_type": "code",
      "execution_count": null,
      "metadata": {
        "colab": {
          "base_uri": "https://localhost:8080/"
        },
        "id": "mxRbcLJDctMW",
        "outputId": "491c2687-bee5-4a92-a419-1904752465ef"
      },
      "outputs": [
        {
          "output_type": "stream",
          "name": "stdout",
          "text": [
            "Toyota\n",
            "Corolla\n"
          ]
        }
      ],
      "source": [
        "#definir la clase \"Coche\"\n",
        "class Coche:\n",
        "  def __init__(self,marca,modelo):\n",
        "    self.marca = marca   #Atributo público\n",
        "    self.modelo = modelo  #Atributo público\n",
        "\n",
        "#Crear un objeto de clase \"Coche\"\n",
        "mi_coche = Coche(\"Toyota\",\"Corolla\")\n",
        "\n",
        "#Acceder a los atributos del objeto\n",
        "print(mi_coche.marca)   #Salida: Toyota\n",
        "print(mi_coche.modelo)  #Salida: Corolla"
      ]
    },
    {
      "cell_type": "markdown",
      "source": [
        "#Ejercicio en clase **encapsulamiento**"
      ],
      "metadata": {
        "id": "SaoyeFtztjv4"
      }
    },
    {
      "cell_type": "code",
      "source": [
        "class Estudiante:\n",
        "    def __init__(self, nombre):\n",
        "        self._nombre = nombre  # Atributo privado\n",
        "        self._notas = []       # Atributo privado\n",
        "\n",
        "    # Método para ingresar las notas con validación\n",
        "    def ingresar_notas(self):\n",
        "        for j in range(1, 3+1):\n",
        "            while True:\n",
        "                try:\n",
        "                    nota = float(input(f\"Ingrese la nota {j} de {self._nombre}: \"))\n",
        "                    if 0 <= nota <= 100:  # Validación de rango\n",
        "                        self._notas.append(nota)\n",
        "                        break\n",
        "                    else:\n",
        "                        print(\"La nota debe estar entre 0 y 100. Inténtalo de nuevo.\")\n",
        "                except ValueError:\n",
        "                    print(\"Entrada inválida. Por favor, ingrese un número.\")\n",
        "\n",
        "    # Método para calcular el promedio solo si todas las notas son 70 o más\n",
        "    def calcular_promedio(self):\n",
        "        if all(nota >= 70 for nota in self._notas):\n",
        "            return sum(self._notas) / 3  # Promedio de las tres notas\n",
        "        else:\n",
        "            return \"NA\"  # No acreditado si alguna nota es menor a 70\n",
        "\n",
        "    # Método para imprimir el reporte de un estudiante\n",
        "    def imprimir_reporte(self):\n",
        "        print(f\"Estudiante: {self._nombre}\")\n",
        "        print(f\"Notas: {self._notas[0]}, {self._notas[1]}, {self._notas[2]}\")\n",
        "        print(f\"Promedio: {self.calcular_promedio()}\")\n",
        "        print(\"-----------------------------\")\n",
        "\n",
        "# Lista de estudiantes\n",
        "estudiantes = []\n",
        "\n",
        "# Ingresar los datos de 3 estudiantes\n",
        "for i in range(3):\n",
        "    nombre = input(f\"Ingrese el nombre del estudiante {i + 1}: \")\n",
        "    estudiante = Estudiante(nombre)  # Crear instancia de la clase Estudiante\n",
        "    estudiante.ingresar_notas()      # Llamar al método para ingresar las notas\n",
        "    estudiantes.append(estudiante)   # Agregar el estudiante a la lista\n",
        "\n",
        "# Reporte de calificaciones\n",
        "print(\"\\n--- Reporte de calificaciones ---\")\n",
        "for estudiante in estudiantes:\n",
        "    estudiante.imprimir_reporte()  # Llamar al método que imprime el reporte\n"
      ],
      "metadata": {
        "colab": {
          "base_uri": "https://localhost:8080/"
        },
        "id": "gN4ikCluwjhF",
        "outputId": "a5090629-f469-4fd4-99df-7a6ee23a2a5a"
      },
      "execution_count": null,
      "outputs": [
        {
          "output_type": "stream",
          "name": "stdout",
          "text": [
            "Ingrese el nombre del estudiante 1: Mariana\n",
            "Ingrese la nota 1 de Mariana: 88\n",
            "Ingrese la nota 2 de Mariana: 99\n",
            "Ingrese la nota 3 de Mariana: 77\n",
            "Ingrese el nombre del estudiante 2: sebastian\n",
            "Ingrese la nota 1 de sebastian: 100\n",
            "Ingrese la nota 2 de sebastian: 45\n",
            "Ingrese la nota 3 de sebastian: 78\n",
            "Ingrese el nombre del estudiante 3: mariapaz\n",
            "Ingrese la nota 1 de mariapaz: 75\n",
            "Ingrese la nota 2 de mariapaz: 89\n",
            "Ingrese la nota 3 de mariapaz: 99\n",
            "\n",
            "--- Reporte de calificaciones ---\n",
            "Estudiante: Mariana\n",
            "Notas: 88.0, 99.0, 77.0\n",
            "Promedio: 88.0\n",
            "-----------------------------\n",
            "Estudiante: sebastian\n",
            "Notas: 100.0, 45.0, 78.0\n",
            "Promedio: NA\n",
            "-----------------------------\n",
            "Estudiante: mariapaz\n",
            "Notas: 75.0, 89.0, 99.0\n",
            "Promedio: 87.66666666666667\n",
            "-----------------------------\n"
          ]
        }
      ]
    }
  ]
}