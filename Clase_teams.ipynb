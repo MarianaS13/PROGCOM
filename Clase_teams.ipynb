{
  "nbformat": 4,
  "nbformat_minor": 0,
  "metadata": {
    "colab": {
      "provenance": []
    },
    "kernelspec": {
      "name": "python3",
      "display_name": "Python 3"
    },
    "language_info": {
      "name": "python"
    }
  },
  "cells": [
    {
      "cell_type": "code",
      "source": [
        "for i in range(1, 11):\n",
        "    print(f\"5x{i}={5*i}\")"
      ],
      "metadata": {
        "colab": {
          "base_uri": "https://localhost:8080/"
        },
        "id": "LxFRy98iAV9j",
        "outputId": "06b67088-3d95-4cfa-8687-9037dd2dd96e"
      },
      "execution_count": 6,
      "outputs": [
        {
          "output_type": "stream",
          "name": "stdout",
          "text": [
            "5x1=5\n",
            "5x2=10\n",
            "5x3=15\n",
            "5x4=20\n",
            "5x5=25\n",
            "5x6=30\n",
            "5x7=35\n",
            "5x8=40\n",
            "5x9=45\n",
            "5x10=50\n"
          ]
        }
      ]
    },
    {
      "cell_type": "code",
      "source": [
        "for i in range(10):\n",
        "    print(f\"5x{i+1}={5*(i+1)}\")"
      ],
      "metadata": {
        "colab": {
          "base_uri": "https://localhost:8080/"
        },
        "id": "P-fSI4MSQr_h",
        "outputId": "e008836f-4ba1-46de-82c3-cacc61766680"
      },
      "execution_count": 7,
      "outputs": [
        {
          "output_type": "stream",
          "name": "stdout",
          "text": [
            "5x1=5\n",
            "5x2=10\n",
            "5x3=15\n",
            "5x4=20\n",
            "5x5=25\n",
            "5x6=30\n",
            "5x7=35\n",
            "5x8=40\n",
            "5x9=45\n",
            "5x10=50\n"
          ]
        }
      ]
    },
    {
      "cell_type": "code",
      "source": [
        "total_pares = 0  # Cambié el nombre de la variable\n",
        "\n",
        "for i in range(10):\n",
        "    numero = int(input(f\"Ingrese el número {i + 1}: \"))\n",
        "\n",
        "    if numero % 2 == 0:  # Solo se cuenta si el número es par\n",
        "        total_pares += 1\n",
        "\n",
        "print(f\"Cantidad de números pares: {total_pares}\")"
      ],
      "metadata": {
        "colab": {
          "base_uri": "https://localhost:8080/"
        },
        "id": "6a4g7nzFDeuo",
        "outputId": "c383af61-363d-4459-8112-670fcd36f97d"
      },
      "execution_count": 2,
      "outputs": [
        {
          "output_type": "stream",
          "name": "stdout",
          "text": [
            "Ingrese el número 1: 10\n",
            "Ingrese el número 2: 5\n",
            "Ingrese el número 3: 7\n",
            "Ingrese el número 4: 0\n",
            "Ingrese el número 5: 3\n",
            "Ingrese el número 6: 5\n",
            "Ingrese el número 7: 20\n",
            "Ingrese el número 8: 2\n",
            "Ingrese el número 9: 1\n",
            "Ingrese el número 10: 8\n",
            "Cantidad de números pares: 5\n"
          ]
        }
      ]
    },
    {
      "cell_type": "code",
      "source": [
        "# De una lista de 10 números, decir cuántos son pares\n",
        "cont = 0\n",
        "for num in range(1, 11):\n",
        "    a = int(input(\"Ingrese el número a analizar: \"))\n",
        "    if a % 2 == 0:\n",
        "        cont = cont + 1\n",
        "\n",
        "print(f\"La cantidad de pares en 10 números es {cont}\")"
      ],
      "metadata": {
        "colab": {
          "base_uri": "https://localhost:8080/"
        },
        "id": "Mx9azEnjEQO9",
        "outputId": "ce37118b-8d60-49db-d192-1e90f43535cd"
      },
      "execution_count": 8,
      "outputs": [
        {
          "output_type": "stream",
          "name": "stdout",
          "text": [
            "Ingrese el número a analizar: 20\n",
            "Ingrese el número a analizar: 2\n",
            "Ingrese el número a analizar: 5\n",
            "Ingrese el número a analizar: 70\n",
            "Ingrese el número a analizar: 80\n",
            "Ingrese el número a analizar: 7\n",
            "Ingrese el número a analizar: 13\n",
            "Ingrese el número a analizar: 4\n",
            "Ingrese el número a analizar: 12\n",
            "Ingrese el número a analizar: 2\n",
            "La cantidad de pares en 10 números es 7\n"
          ]
        }
      ]
    },
    {
      "cell_type": "code",
      "source": [
        "import random\n",
        "cont = 0\n",
        "for num in range(10):\n",
        "    a = random.randint(1, 40)\n",
        "    if a % 2 == 0:\n",
        "        cont = cont + 1\n",
        "\n",
        "print(f\"La cantidad de pares en 10 números es {cont}\")"
      ],
      "metadata": {
        "colab": {
          "base_uri": "https://localhost:8080/"
        },
        "id": "mghq6wiCRO_h",
        "outputId": "2919aacf-c47d-43f5-ee9f-9d6d363e8728"
      },
      "execution_count": 9,
      "outputs": [
        {
          "output_type": "stream",
          "name": "stdout",
          "text": [
            "La cantidad de pares en 10 números es 6\n"
          ]
        }
      ]
    },
    {
      "cell_type": "code",
      "source": [
        "c=0\n",
        "while True:  # Ciclo infinito hasta que se ingrese un número impar\n",
        "    num = int(input(\"Ingrese un número: \"))\n",
        "\n",
        "    if num % 2 == 0:\n",
        "        c += 1  # Cuenta los pares\n",
        "    else:\n",
        "        break  # Se termina el ciclo si el número es impar\n",
        "\n",
        "print(f\"Cantidad de números pares ingresados: {c}\")"
      ],
      "metadata": {
        "colab": {
          "base_uri": "https://localhost:8080/"
        },
        "id": "QpJVwEOcFUOQ",
        "outputId": "3a4770e1-078e-440f-a555-a7e07e4afe6a"
      },
      "execution_count": 3,
      "outputs": [
        {
          "output_type": "stream",
          "name": "stdout",
          "text": [
            "Ingrese un número: 2\n",
            "Ingrese un número: 10\n",
            "Ingrese un número: 20\n",
            "Ingrese un número: 5\n",
            "Cantidad de números pares ingresados: 3\n"
          ]
        }
      ]
    },
    {
      "cell_type": "code",
      "source": [
        "estudiantes = []\n",
        "\n",
        "# Ingresar los datos de 15 estudiantes\n",
        "for i in range(15):\n",
        "    nombre = input(f\"Ingrese el nombre del estudiante {i + 1}: \")\n",
        "\n",
        "    # Inicializamos las tres notas con una validación de entrada\n",
        "    notas = []\n",
        "    for j in range(1, 4):\n",
        "        while True:\n",
        "            try:\n",
        "                nota = float(input(f\"Ingrese la nota {j} de {nombre}: \"))\n",
        "                if 0 <= nota <= 100:  # Aseguramos que la nota esté en el rango 0-100\n",
        "                    notas.append(nota)\n",
        "                    break\n",
        "                else:\n",
        "                    print(\"La nota debe estar entre 0 y 100. Inténtalo de nuevo.\")\n",
        "            except ValueError:\n",
        "                print(\"Entrada inválida. Por favor, ingrese un número.\")\n",
        "\n",
        "    # Guardamos los datos del estudiante y sus notas\n",
        "    estudiantes.append({\n",
        "        \"nombre\": nombre,\n",
        "        \"notas\": notas\n",
        "    })\n",
        "\n",
        "# Reporte de calificaciones\n",
        "print(\"\\n--- Reporte de calificaciones ---\")\n",
        "for estudiante in estudiantes:\n",
        "    nombre = estudiante[\"nombre\"]\n",
        "    notas = estudiante[\"notas\"]\n",
        "\n",
        "    # Verificamos si todas las notas son 70 o más\n",
        "    if all(nota >= 70 for nota in notas):\n",
        "        promedio = sum(notas) / 3  # Calculamos el promedio si todas las notas son aprobadas\n",
        "    else:\n",
        "        promedio = \"NA\"  # No acreditado si alguna nota es menor a 70\n",
        "\n",
        "    # Imprimimos el reporte para cada estudiante\n",
        "    print(f\"Estudiante: {nombre}\")\n",
        "    print(f\"Notas: {notas[0]}, {notas[1]}, {notas[2]}\")\n",
        "    print(f\"Promedio: {promedio}\")\n",
        "    print(\"-----------------------------\")"
      ],
      "metadata": {
        "colab": {
          "base_uri": "https://localhost:8080/"
        },
        "id": "bfizyTXbKH5n",
        "outputId": "15a6a63b-fe41-419e-d049-3423f2c1aa29"
      },
      "execution_count": 5,
      "outputs": [
        {
          "output_type": "stream",
          "name": "stdout",
          "text": [
            "Ingrese el nombre del estudiante 1: Maria\n",
            "Ingrese la nota 1 de Maria: 20\n",
            "Ingrese la nota 2 de Maria: 80\n",
            "Ingrese la nota 3 de Maria: 100\n",
            "Ingrese el nombre del estudiante 2: Santiago\n",
            "Ingrese la nota 1 de Santiago: 30\n",
            "Ingrese la nota 2 de Santiago: 40\n",
            "Ingrese la nota 3 de Santiago: 90\n",
            "Ingrese el nombre del estudiante 3: Juliana\n",
            "Ingrese la nota 1 de Juliana: 20\n",
            "Ingrese la nota 2 de Juliana: 80\n",
            "Ingrese la nota 3 de Juliana: 60\n",
            "Ingrese el nombre del estudiante 4: Karol\n",
            "Ingrese la nota 1 de Karol: 100\n",
            "Ingrese la nota 2 de Karol: 80\n",
            "Ingrese la nota 3 de Karol: 70\n",
            "Ingrese el nombre del estudiante 5: Gabriela\n",
            "Ingrese la nota 1 de Gabriela: 65\n",
            "Ingrese la nota 2 de Gabriela: 80\n",
            "Ingrese la nota 3 de Gabriela: 100\n",
            "Ingrese el nombre del estudiante 6: Camila\n",
            "Ingrese la nota 1 de Camila: 95\n",
            "Ingrese la nota 2 de Camila: 60\n",
            "Ingrese la nota 3 de Camila: 75\n",
            "Ingrese el nombre del estudiante 7: Andres\n",
            "Ingrese la nota 1 de Andres: 100\n",
            "Ingrese la nota 2 de Andres: 85\n",
            "Ingrese la nota 3 de Andres: 60\n",
            "Ingrese el nombre del estudiante 8: Snider\n",
            "Ingrese la nota 1 de Snider: 20\n",
            "Ingrese la nota 2 de Snider: 80\n",
            "Ingrese la nota 3 de Snider: 35\n",
            "Ingrese el nombre del estudiante 9: Juan\n",
            "Ingrese la nota 1 de Juan: 100\n",
            "Ingrese la nota 2 de Juan: 85\n",
            "Ingrese la nota 3 de Juan: 90\n",
            "Ingrese el nombre del estudiante 10: Sebastian\n",
            "Ingrese la nota 1 de Sebastian: 95\n",
            "Ingrese la nota 2 de Sebastian: 70\n",
            "Ingrese la nota 3 de Sebastian: 82\n",
            "Ingrese el nombre del estudiante 11: Camilo\n",
            "Ingrese la nota 1 de Camilo: 20\n",
            "Ingrese la nota 2 de Camilo: 80\n",
            "Ingrese la nota 3 de Camilo: 65\n",
            "Ingrese el nombre del estudiante 12: Jose\n",
            "Ingrese la nota 1 de Jose: 40\n",
            "Ingrese la nota 2 de Jose: 80\n",
            "Ingrese la nota 3 de Jose: 95\n",
            "Ingrese el nombre del estudiante 13: Dana\n",
            "Ingrese la nota 1 de Dana: 55\n",
            "Ingrese la nota 2 de Dana: 70\n",
            "Ingrese la nota 3 de Dana: 85\n",
            "Ingrese el nombre del estudiante 14: Martin \n",
            "Ingrese la nota 1 de Martin : 100\n",
            "Ingrese la nota 2 de Martin : 65\n",
            "Ingrese la nota 3 de Martin : 84\n",
            "Ingrese el nombre del estudiante 15: Paula\n",
            "Ingrese la nota 1 de Paula: 80\n",
            "Ingrese la nota 2 de Paula: 75\n",
            "Ingrese la nota 3 de Paula: 90\n",
            "\n",
            "--- Reporte de calificaciones ---\n",
            "Estudiante: Maria\n",
            "Notas: 20.0, 80.0, 100.0\n",
            "Promedio: NA\n",
            "-----------------------------\n",
            "Estudiante: Santiago\n",
            "Notas: 30.0, 40.0, 90.0\n",
            "Promedio: NA\n",
            "-----------------------------\n",
            "Estudiante: Juliana\n",
            "Notas: 20.0, 80.0, 60.0\n",
            "Promedio: NA\n",
            "-----------------------------\n",
            "Estudiante: Karol\n",
            "Notas: 100.0, 80.0, 70.0\n",
            "Promedio: 83.33333333333333\n",
            "-----------------------------\n",
            "Estudiante: Gabriela\n",
            "Notas: 65.0, 80.0, 100.0\n",
            "Promedio: NA\n",
            "-----------------------------\n",
            "Estudiante: Camila\n",
            "Notas: 95.0, 60.0, 75.0\n",
            "Promedio: NA\n",
            "-----------------------------\n",
            "Estudiante: Andres\n",
            "Notas: 100.0, 85.0, 60.0\n",
            "Promedio: NA\n",
            "-----------------------------\n",
            "Estudiante: Snider\n",
            "Notas: 20.0, 80.0, 35.0\n",
            "Promedio: NA\n",
            "-----------------------------\n",
            "Estudiante: Juan\n",
            "Notas: 100.0, 85.0, 90.0\n",
            "Promedio: 91.66666666666667\n",
            "-----------------------------\n",
            "Estudiante: Sebastian\n",
            "Notas: 95.0, 70.0, 82.0\n",
            "Promedio: 82.33333333333333\n",
            "-----------------------------\n",
            "Estudiante: Camilo\n",
            "Notas: 20.0, 80.0, 65.0\n",
            "Promedio: NA\n",
            "-----------------------------\n",
            "Estudiante: Jose\n",
            "Notas: 40.0, 80.0, 95.0\n",
            "Promedio: NA\n",
            "-----------------------------\n",
            "Estudiante: Dana\n",
            "Notas: 55.0, 70.0, 85.0\n",
            "Promedio: NA\n",
            "-----------------------------\n",
            "Estudiante: Martin \n",
            "Notas: 100.0, 65.0, 84.0\n",
            "Promedio: NA\n",
            "-----------------------------\n",
            "Estudiante: Paula\n",
            "Notas: 80.0, 75.0, 90.0\n",
            "Promedio: 81.66666666666667\n",
            "-----------------------------\n"
          ]
        }
      ]
    }
  ]
}